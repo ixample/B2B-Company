{
 "cells": [
  {
   "cell_type": "code",
   "execution_count": 1,
   "metadata": {},
   "outputs": [
    {
     "name": "stdout",
     "output_type": "stream",
     "text": [
      "Note: you may need to restart the kernel to use updated packages.\n",
      "Note: you may need to restart the kernel to use updated packages.\n",
      "Note: you may need to restart the kernel to use updated packages.\n",
      "Note: you may need to restart the kernel to use updated packages.\n",
      "Note: you may need to restart the kernel to use updated packages.\n",
      "Note: you may need to restart the kernel to use updated packages.\n",
      "Note: you may need to restart the kernel to use updated packages.\n"
     ]
    }
   ],
   "source": [
    "%pip install nbformat --quiet\n",
    "%run pl_dataload.ipynb --quiet"
   ]
  },
  {
   "cell_type": "code",
   "execution_count": 5,
   "metadata": {},
   "outputs": [
    {
     "name": "stdout",
     "output_type": "stream",
     "text": [
      "salesman shape: (9_994, 4)\n",
      "┌─────────────┬───────────────────┬──────────┬───────────┐\n",
      "│ customer_id ┆ customer          ┆ industry ┆ segment   │\n",
      "│ ---         ┆ ---               ┆ ---      ┆ ---       │\n",
      "│ i64         ┆ str               ┆ str      ┆ str       │\n",
      "╞═════════════╪═══════════════════╪══════════╪═══════════╡\n",
      "│ 1017        ┆ Chevron           ┆ Energy   ┆ SMB       │\n",
      "│ 1056        ┆ Phillips 66       ┆ Energy   ┆ Strategic │\n",
      "│ 1031        ┆ Royal Dutch Shell ┆ Energy   ┆ SMB       │\n",
      "│ 1065        ┆ BNP Paribas       ┆ Finance  ┆ SMB       │\n",
      "│ …           ┆ …                 ┆ …        ┆ …         │\n",
      "│ null        ┆ null              ┆ null     ┆ null      │\n",
      "│ null        ┆ null              ┆ null     ┆ null      │\n",
      "│ null        ┆ null              ┆ null     ┆ null      │\n",
      "│ null        ┆ null              ┆ null     ┆ null      │\n",
      "└─────────────┴───────────────────┴──────────┴───────────┘\n",
      "Products shape: (14, 3)\n",
      "┌────────────┬────────────────────────────┬───────────────────────────────────┐\n",
      "│ product_id ┆ product                    ┆ description                       │\n",
      "│ ---        ┆ ---                        ┆ ---                               │\n",
      "│ i64        ┆ str                        ┆ str                               │\n",
      "╞════════════╪════════════════════════════╪═══════════════════════════════════╡\n",
      "│ 9001       ┆ Marketing Suite            ┆ A suite of tools that helps busi… │\n",
      "│ 9002       ┆ FinanceHub                 ┆ A financial management tool that… │\n",
      "│ 9003       ┆ ContactMatcher             ┆ A tool that helps businesses fin… │\n",
      "│ 9004       ┆ Marketing Suite - Gold     ┆ A premium version of the Marketi… │\n",
      "│ …          ┆ …                          ┆ …                                 │\n",
      "│ 9011       ┆ SaaS Connector Pack - Gold ┆ A premium version of the SaaS Co… │\n",
      "│ 9012       ┆ Storage                    ┆ A cloud storage solution that al… │\n",
      "│ 9013       ┆ Big Ol Database            ┆ A relational database management… │\n",
      "│ 9014       ┆ Alchemy                    ┆ A natural language processing pl… │\n",
      "└────────────┴────────────────────────────┴───────────────────────────────────┘\n",
      "Sales shape: (9_994, 9)\n",
      "┌────────────┬───────────┬───────────┬──────────┬───┬───────────┬───────────┬───────────┬──────────┐\n",
      "│ transactio ┆ order_id  ┆ order_id_ ┆ data_key ┆ … ┆ customer_ ┆ product_i ┆ license   ┆ quantity │\n",
      "│ n_row_id   ┆ ---       ┆ duplicate ┆ ---      ┆   ┆ id        ┆ d         ┆ ---       ┆ ---      │\n",
      "│ ---        ┆ str       ┆ d_0       ┆ i64      ┆   ┆ ---       ┆ ---       ┆ str       ┆ i64      │\n",
      "│ i64        ┆           ┆ ---       ┆          ┆   ┆ i64       ┆ i64       ┆           ┆          │\n",
      "│            ┆           ┆ str       ┆          ┆   ┆           ┆           ┆           ┆          │\n",
      "╞════════════╪═══════════╪═══════════╪══════════╪═══╪═══════════╪═══════════╪═══════════╪══════════╡\n",
      "│ 1          ┆ EMEA-2022 ┆ 11/9/2022 ┆ 20221109 ┆ … ┆ 1017      ┆ 2001      ┆ 16GRM07R1 ┆ 2        │\n",
      "│            ┆ -152156   ┆           ┆          ┆   ┆           ┆           ┆ K         ┆          │\n",
      "│ 2          ┆ EMEA-2022 ┆ 11/9/2022 ┆ 20221109 ┆ … ┆ 1017      ┆ 2002      ┆ QLIW57KZU ┆ 3        │\n",
      "│            ┆ -152156   ┆           ┆          ┆   ┆           ┆           ┆ V         ┆          │\n",
      "│ 3          ┆ AMER-2022 ┆ 6/13/2022 ┆ 20220613 ┆ … ┆ 1056      ┆ 2002      ┆ JI6BVL70H ┆ 2        │\n",
      "│            ┆ -138688   ┆           ┆          ┆   ┆           ┆           ┆ Q         ┆          │\n",
      "│ 4          ┆ EMEA-2021 ┆ 10/11/202 ┆ 20211011 ┆ … ┆ 1031      ┆ 2003      ┆ DE9GJKGD4 ┆ 5        │\n",
      "│            ┆ -108966   ┆ 1         ┆          ┆   ┆           ┆           ┆ 4         ┆          │\n",
      "│ …          ┆ …         ┆ …         ┆ …        ┆ … ┆ …         ┆ …         ┆ …         ┆ …        │\n",
      "│ 9991       ┆ AMER-2023 ┆ 2/27/2023 ┆ 20230227 ┆ … ┆ 1005      ┆ 2005      ┆ LYHOKTRY7 ┆ 2        │\n",
      "│            ┆ -121258   ┆           ┆          ┆   ┆           ┆           ┆ L         ┆          │\n",
      "│ 9992       ┆ AMER-2023 ┆ 2/27/2023 ┆ 20230227 ┆ … ┆ 1005      ┆ 2007      ┆ I5SVMI6M8 ┆ 2        │\n",
      "│            ┆ -121258   ┆           ┆          ┆   ┆           ┆           ┆ 8         ┆          │\n",
      "│ 9993       ┆ AMER-2023 ┆ 2/27/2023 ┆ 20230227 ┆ … ┆ 1005      ┆ 2009      ┆ JHLW4P6LQ ┆ 4        │\n",
      "│            ┆ -121258   ┆           ┆          ┆   ┆           ┆           ┆ 2         ┆          │\n",
      "│ 9994       ┆ AMER-2023 ┆ 5/5/2023  ┆ 20230505 ┆ … ┆ 1022      ┆ 2008      ┆ 3NTBV9B3P ┆ 2        │\n",
      "│            ┆ -119914   ┆           ┆          ┆   ┆           ┆           ┆ S         ┆          │\n",
      "└────────────┴───────────┴───────────┴──────────┴───┴───────────┴───────────┴───────────┴──────────┘\n",
      "Salesman shape: (9_994, 6)\n",
      "┌─────────────┬────────────────┬───────────────┬───────────────┬────────┬───────────┐\n",
      "│ salesman_id ┆ contact_name   ┆ country       ┆ city          ┆ region ┆ subregion │\n",
      "│ ---         ┆ ---            ┆ ---           ┆ ---           ┆ ---    ┆ ---       │\n",
      "│ i64         ┆ str            ┆ str           ┆ str           ┆ str    ┆ str       │\n",
      "╞═════════════╪════════════════╪═══════════════╪═══════════════╪════════╪═══════════╡\n",
      "│ 3001        ┆ Nathan Bell    ┆ Ireland       ┆ Dublin        ┆ EMEA   ┆ UKIR      │\n",
      "│ 3002        ┆ Deirdre Bailey ┆ United States ┆ New York City ┆ AMER   ┆ NAMER     │\n",
      "│ 3003        ┆ Zoe Hodges     ┆ Germany       ┆ Stuttgart     ┆ EMEA   ┆ EU-WEST   │\n",
      "│ 3004        ┆ Thomas Hodges  ┆ United States ┆ New York City ┆ AMER   ┆ NAMER     │\n",
      "│ …           ┆ …              ┆ …             ┆ …             ┆ …      ┆ …         │\n",
      "│ null        ┆ null           ┆ null          ┆ null          ┆ null   ┆ null      │\n",
      "│ null        ┆ null           ┆ null          ┆ null          ┆ null   ┆ null      │\n",
      "│ null        ┆ null           ┆ null          ┆ null          ┆ null   ┆ null      │\n",
      "│ null        ┆ null           ┆ null          ┆ null          ┆ null   ┆ null      │\n",
      "└─────────────┴────────────────┴───────────────┴───────────────┴────────┴───────────┘\n",
      "Product Pricing shape: (14, 5)\n",
      "┌──────┬────────┬────────┬────────┬────────┐\n",
      "│ id   ┆ y_2020 ┆ y_2021 ┆ y_2022 ┆ y_2023 │\n",
      "│ ---  ┆ ---    ┆ ---    ┆ ---    ┆ ---    │\n",
      "│ i64  ┆ f64    ┆ f64    ┆ f64    ┆ f64    │\n",
      "╞══════╪════════╪════════╪════════╪════════╡\n",
      "│ 9001 ┆ 131.1  ┆ 134.38 ┆ 137.74 ┆ 151.77 │\n",
      "│ 9002 ┆ 90.39  ┆ 92.65  ┆ 94.97  ┆ 104.64 │\n",
      "│ 9003 ┆ 58.91  ┆ 60.38  ┆ 61.89  ┆ 68.2   │\n",
      "│ 9004 ┆ 70.45  ┆ 72.21  ┆ 74.02  ┆ 81.55  │\n",
      "│ …    ┆ …      ┆ …      ┆ …      ┆ …      │\n",
      "│ 9011 ┆ 18.87  ┆ 19.34  ┆ 19.82  ┆ 21.84  │\n",
      "│ 9012 ┆ 3.29   ┆ 3.37   ┆ 3.45   ┆ 3.8    │\n",
      "│ 9013 ┆ 423.35 ┆ 433.93 ┆ 444.78 ┆ 490.09 │\n",
      "│ 9014 ┆ 601.02 ┆ 616.05 ┆ 631.45 ┆ 695.75 │\n",
      "└──────┴────────┴────────┴────────┴────────┘\n"
     ]
    }
   ],
   "source": [
    "print(\"salesman\", df_customer)\n",
    "print(\"Products\", df_products)\n",
    "print(\"Sales\", df_sales)\n",
    "print(\"Salesman\", df_salesman)\n",
    "print(\"Product Pricing\", product_pricing)"
   ]
  }
 ],
 "metadata": {
  "kernelspec": {
   "display_name": "venv",
   "language": "python",
   "name": "python3"
  },
  "language_info": {
   "codemirror_mode": {
    "name": "ipython",
    "version": 3
   },
   "file_extension": ".py",
   "mimetype": "text/x-python",
   "name": "python",
   "nbconvert_exporter": "python",
   "pygments_lexer": "ipython3",
   "version": "3.11.4"
  },
  "orig_nbformat": 4
 },
 "nbformat": 4,
 "nbformat_minor": 2
}
