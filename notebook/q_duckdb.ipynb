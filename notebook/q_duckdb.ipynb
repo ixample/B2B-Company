{
  "cells": [
    {
      "cell_type": "code",
      "execution_count": 17,
      "id": "dcc9b65c",
      "metadata": {},
      "outputs": [
        {
          "name": "stdout",
          "output_type": "stream",
          "text": [
            "Note: you may need to restart the kernel to use updated packages.\n",
            "Note: you may need to restart the kernel to use updated packages.\n",
            "Note: you may need to restart the kernel to use updated packages.\n",
            "Note: you may need to restart the kernel to use updated packages.\n",
            "Note: you may need to restart the kernel to use updated packages.\n",
            "Note: you may need to restart the kernel to use updated packages.\n",
            "Note: you may need to restart the kernel to use updated packages.\n"
          ]
        }
      ],
      "source": [
        "%pip install nbformat --quiet\n",
        "%run ddb_dataload.ipynb --quiet"
      ]
    },
    {
      "cell_type": "code",
      "execution_count": 20,
      "id": "57752605",
      "metadata": {},
      "outputs": [
        {
          "data": {
            "text/plain": [
              "polars.dataframe.frame.DataFrame"
            ]
          },
          "metadata": {},
          "output_type": "display_data"
        },
        {
          "name": "stdout",
          "output_type": "stream",
          "text": [
            "shape: (9_994, 7)\n",
            "┌───────────────┬───────────────┬────────────┬──────────┬───────────────┬──────────────┬───────────┐\n",
            "│ transaction_r ┆ order_id      ┆ order_id_1 ┆ data_key ┆ customer      ┆ industry     ┆ segment   │\n",
            "│ ow_id         ┆ ---           ┆ ---        ┆ ---      ┆ ---           ┆ ---          ┆ ---       │\n",
            "│ ---           ┆ str           ┆ date       ┆ i64      ┆ str           ┆ str          ┆ str       │\n",
            "│ i64           ┆               ┆            ┆          ┆               ┆              ┆           │\n",
            "╞═══════════════╪═══════════════╪════════════╪══════════╪═══════════════╪══════════════╪═══════════╡\n",
            "│ 1             ┆ EMEA-2022-152 ┆ 2022-11-09 ┆ 20221109 ┆ Chevron       ┆ Energy       ┆ SMB       │\n",
            "│               ┆ 156           ┆            ┆          ┆               ┆              ┆           │\n",
            "│ 2             ┆ EMEA-2022-152 ┆ 2022-11-09 ┆ 20221109 ┆ Chevron       ┆ Energy       ┆ SMB       │\n",
            "│               ┆ 156           ┆            ┆          ┆               ┆              ┆           │\n",
            "│ 3             ┆ AMER-2022-138 ┆ 2022-06-13 ┆ 20220613 ┆ Phillips 66   ┆ Energy       ┆ Strategic │\n",
            "│               ┆ 688           ┆            ┆          ┆               ┆              ┆           │\n",
            "│ 4             ┆ EMEA-2021-108 ┆ 2021-10-11 ┆ 20211011 ┆ Royal Dutch   ┆ Energy       ┆ SMB       │\n",
            "│               ┆ 966           ┆            ┆          ┆ Shell         ┆              ┆           │\n",
            "│ …             ┆ …             ┆ …          ┆ …        ┆ …             ┆ …            ┆ …         │\n",
            "│ 9991          ┆ AMER-2023-121 ┆ 2023-02-27 ┆ 20230227 ┆ American      ┆ Finance      ┆ SMB       │\n",
            "│               ┆ 258           ┆            ┆          ┆ Express       ┆              ┆           │\n",
            "│ 9992          ┆ AMER-2023-121 ┆ 2023-02-27 ┆ 20230227 ┆ American      ┆ Finance      ┆ SMB       │\n",
            "│               ┆ 258           ┆            ┆          ┆ Express       ┆              ┆           │\n",
            "│ 9993          ┆ AMER-2023-121 ┆ 2023-02-27 ┆ 20230227 ┆ American      ┆ Finance      ┆ SMB       │\n",
            "│               ┆ 258           ┆            ┆          ┆ Express       ┆              ┆           │\n",
            "│ 9994          ┆ AMER-2023-119 ┆ 2023-05-05 ┆ 20230505 ┆ Comcast       ┆ Communicatio ┆ SMB       │\n",
            "│               ┆ 914           ┆            ┆          ┆               ┆ ns           ┆           │\n",
            "└───────────────┴───────────────┴────────────┴──────────┴───────────────┴──────────────┴───────────┘\n"
          ]
        }
      ],
      "source": [
        "##Query Join\n",
        "\n",
        "q = conn.execute(\"\"\"\n",
        "    SELECT s.transaction_row_id, s.order_id, s.order_id_1, s.data_key, c.customer, c.industry, c.segment\n",
        "        FROM tblSales s\n",
        "        INNER JOIN tblCustomer c\n",
        "            ON c.Customer_Id = s.Customer_Id\n",
        "    \"\"\"\n",
        ").pl()\n",
        "\n",
        "display(type(q))\n",
        "print(q)"
      ]
    },
    {
      "cell_type": "code",
      "execution_count": 19,
      "id": "b35e53d1",
      "metadata": {},
      "outputs": [],
      "source": [
        "#results2.write_csv('../output/duckdb_results.csv')"
      ]
    }
  ],
  "metadata": {
    "kernelspec": {
      "display_name": "venv",
      "language": "python",
      "name": "python3"
    },
    "language_info": {
      "codemirror_mode": {
        "name": "ipython",
        "version": 3
      },
      "file_extension": ".py",
      "mimetype": "text/x-python",
      "name": "python",
      "nbconvert_exporter": "python",
      "pygments_lexer": "ipython3",
      "version": "3.11.4"
    },
    "orig_nbformat": 4,
    "selected_hardware_size": "small"
  },
  "nbformat": 4,
  "nbformat_minor": 5
}
