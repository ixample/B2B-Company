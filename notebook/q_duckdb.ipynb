{
  "cells": [
    {
      "cell_type": "code",
      "execution_count": 17,
      "id": "dcc9b65c",
      "metadata": {},
      "outputs": [
        {
          "name": "stdout",
          "output_type": "stream",
          "text": [
            "Note: you may need to restart the kernel to use updated packages.\n",
            "Note: you may need to restart the kernel to use updated packages.\n",
            "Note: you may need to restart the kernel to use updated packages.\n",
            "Note: you may need to restart the kernel to use updated packages.\n",
            "Note: you may need to restart the kernel to use updated packages.\n",
            "Note: you may need to restart the kernel to use updated packages.\n",
            "Note: you may need to restart the kernel to use updated packages.\n"
          ]
        }
      ],
      "source": [
        "%pip install nbformat --quiet\n",
        "%run ddb_dataload.ipynb --quiet"
      ]
    },
    {
      "cell_type": "code",
      "execution_count": 18,
      "id": "57752605",
      "metadata": {},
      "outputs": [
        {
          "data": {
            "text/plain": [
              "polars.dataframe.frame.DataFrame"
            ]
          },
          "metadata": {},
          "output_type": "display_data"
        },
        {
          "name": "stdout",
          "output_type": "stream",
          "text": [
            "shape: (9_994, 9)\n",
            "┌───────────┬───────────┬───────────┬──────────┬───┬───────────┬───────────┬───────────┬───────────┐\n",
            "│ transacti ┆ order_id  ┆ order_id_ ┆ data_key ┆ … ┆ customer  ┆ industry  ┆ segment   ┆ filename  │\n",
            "│ on_row_id ┆ ---       ┆ 1         ┆ ---      ┆   ┆ ---       ┆ ---       ┆ ---       ┆ ---       │\n",
            "│ ---       ┆ str       ┆ ---       ┆ i64      ┆   ┆ str       ┆ str       ┆ str       ┆ str       │\n",
            "│ i64       ┆           ┆ date      ┆          ┆   ┆           ┆           ┆           ┆           │\n",
            "╞═══════════╪═══════════╪═══════════╪══════════╪═══╪═══════════╪═══════════╪═══════════╪═══════════╡\n",
            "│ 1         ┆ EMEA-2022 ┆ 2022-11-0 ┆ 20221109 ┆ … ┆ Chevron   ┆ Energy    ┆ SMB       ┆ ../data/c │\n",
            "│           ┆ -152156   ┆ 9         ┆          ┆   ┆           ┆           ┆           ┆ ustomer.c │\n",
            "│           ┆           ┆           ┆          ┆   ┆           ┆           ┆           ┆ sv        │\n",
            "│ 2         ┆ EMEA-2022 ┆ 2022-11-0 ┆ 20221109 ┆ … ┆ Chevron   ┆ Energy    ┆ SMB       ┆ ../data/c │\n",
            "│           ┆ -152156   ┆ 9         ┆          ┆   ┆           ┆           ┆           ┆ ustomer.c │\n",
            "│           ┆           ┆           ┆          ┆   ┆           ┆           ┆           ┆ sv        │\n",
            "│ 3         ┆ AMER-2022 ┆ 2022-06-1 ┆ 20220613 ┆ … ┆ Phillips  ┆ Energy    ┆ Strategic ┆ ../data/c │\n",
            "│           ┆ -138688   ┆ 3         ┆          ┆   ┆ 66        ┆           ┆           ┆ ustomer.c │\n",
            "│           ┆           ┆           ┆          ┆   ┆           ┆           ┆           ┆ sv        │\n",
            "│ 4         ┆ EMEA-2021 ┆ 2021-10-1 ┆ 20211011 ┆ … ┆ Royal     ┆ Energy    ┆ SMB       ┆ ../data/c │\n",
            "│           ┆ -108966   ┆ 1         ┆          ┆   ┆ Dutch     ┆           ┆           ┆ ustomer.c │\n",
            "│           ┆           ┆           ┆          ┆   ┆ Shell     ┆           ┆           ┆ sv        │\n",
            "│ …         ┆ …         ┆ …         ┆ …        ┆ … ┆ …         ┆ …         ┆ …         ┆ …         │\n",
            "│ 9991      ┆ AMER-2023 ┆ 2023-02-2 ┆ 20230227 ┆ … ┆ American  ┆ Finance   ┆ SMB       ┆ ../data/c │\n",
            "│           ┆ -121258   ┆ 7         ┆          ┆   ┆ Express   ┆           ┆           ┆ ustomer.c │\n",
            "│           ┆           ┆           ┆          ┆   ┆           ┆           ┆           ┆ sv        │\n",
            "│ 9992      ┆ AMER-2023 ┆ 2023-02-2 ┆ 20230227 ┆ … ┆ American  ┆ Finance   ┆ SMB       ┆ ../data/c │\n",
            "│           ┆ -121258   ┆ 7         ┆          ┆   ┆ Express   ┆           ┆           ┆ ustomer.c │\n",
            "│           ┆           ┆           ┆          ┆   ┆           ┆           ┆           ┆ sv        │\n",
            "│ 9993      ┆ AMER-2023 ┆ 2023-02-2 ┆ 20230227 ┆ … ┆ American  ┆ Finance   ┆ SMB       ┆ ../data/c │\n",
            "│           ┆ -121258   ┆ 7         ┆          ┆   ┆ Express   ┆           ┆           ┆ ustomer.c │\n",
            "│           ┆           ┆           ┆          ┆   ┆           ┆           ┆           ┆ sv        │\n",
            "│ 9994      ┆ AMER-2023 ┆ 2023-05-0 ┆ 20230505 ┆ … ┆ Comcast   ┆ Communica ┆ SMB       ┆ ../data/c │\n",
            "│           ┆ -119914   ┆ 5         ┆          ┆   ┆           ┆ tions     ┆           ┆ ustomer.c │\n",
            "│           ┆           ┆           ┆          ┆   ┆           ┆           ┆           ┆ sv        │\n",
            "└───────────┴───────────┴───────────┴──────────┴───┴───────────┴───────────┴───────────┴───────────┘\n"
          ]
        }
      ],
      "source": [
        "##Query Join\n",
        "\n",
        "q = conn.execute(\"\"\"\n",
        "    SELECT s.transaction_row_id, s.order_id, s.order_id_1, s.data_key, c.*\n",
        "        FROM tblSales s\n",
        "        INNER JOIN tblCustomer c\n",
        "            ON c.Customer_Id = s.Customer_Id\n",
        "    \"\"\"\n",
        ").pl()\n",
        "\n",
        "display(type(q))\n",
        "print(q)"
      ]
    },
    {
      "cell_type": "code",
      "execution_count": 19,
      "id": "b35e53d1",
      "metadata": {},
      "outputs": [],
      "source": [
        "#results2.write_csv('../output/duckdb_results.csv')"
      ]
    }
  ],
  "metadata": {
    "kernelspec": {
      "display_name": "venv",
      "language": "python",
      "name": "python3"
    },
    "language_info": {
      "codemirror_mode": {
        "name": "ipython",
        "version": 3
      },
      "file_extension": ".py",
      "mimetype": "text/x-python",
      "name": "python",
      "nbconvert_exporter": "python",
      "pygments_lexer": "ipython3",
      "version": "3.11.4"
    },
    "orig_nbformat": 4,
    "selected_hardware_size": "small"
  },
  "nbformat": 4,
  "nbformat_minor": 5
}
