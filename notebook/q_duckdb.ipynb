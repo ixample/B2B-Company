{
  "cells": [
    {
      "cell_type": "code",
      "execution_count": 1,
      "id": "dcc9b65c",
      "metadata": {},
      "outputs": [
        {
          "name": "stdout",
          "output_type": "stream",
          "text": [
            "Collecting nbformat\n",
            "  Using cached nbformat-5.9.2-py3-none-any.whl (77 kB)\n",
            "Collecting fastjsonschema (from nbformat)\n",
            "  Using cached fastjsonschema-2.18.0-py3-none-any.whl (23 kB)\n",
            "Collecting jsonschema>=2.6 (from nbformat)\n",
            "  Using cached jsonschema-4.19.0-py3-none-any.whl (83 kB)\n",
            "Requirement already satisfied: jupyter-core in g:\\my drive\\__modern data stack\\github\\b2b-company\\venv\\lib\\site-packages (from nbformat) (5.3.1)\n",
            "Requirement already satisfied: traitlets>=5.1 in g:\\my drive\\__modern data stack\\github\\b2b-company\\venv\\lib\\site-packages (from nbformat) (5.9.0)\n",
            "Collecting attrs>=22.2.0 (from jsonschema>=2.6->nbformat)\n",
            "  Using cached attrs-23.1.0-py3-none-any.whl (61 kB)\n",
            "Collecting jsonschema-specifications>=2023.03.6 (from jsonschema>=2.6->nbformat)\n",
            "  Using cached jsonschema_specifications-2023.7.1-py3-none-any.whl (17 kB)\n",
            "Collecting referencing>=0.28.4 (from jsonschema>=2.6->nbformat)\n",
            "  Using cached referencing-0.30.2-py3-none-any.whl (25 kB)\n",
            "Collecting rpds-py>=0.7.1 (from jsonschema>=2.6->nbformat)\n",
            "  Downloading rpds_py-0.10.0-cp311-none-win_amd64.whl (184 kB)\n",
            "                                              0.0/184.5 kB ? eta -:--:--\n",
            "     -------------------------------------- 184.5/184.5 kB 5.4 MB/s eta 0:00:00\n",
            "Requirement already satisfied: platformdirs>=2.5 in g:\\my drive\\__modern data stack\\github\\b2b-company\\venv\\lib\\site-packages (from jupyter-core->nbformat) (3.10.0)\n",
            "Requirement already satisfied: pywin32>=300 in g:\\my drive\\__modern data stack\\github\\b2b-company\\venv\\lib\\site-packages (from jupyter-core->nbformat) (306)\n",
            "Installing collected packages: fastjsonschema, rpds-py, attrs, referencing, jsonschema-specifications, jsonschema, nbformat\n",
            "Successfully installed attrs-23.1.0 fastjsonschema-2.18.0 jsonschema-4.19.0 jsonschema-specifications-2023.7.1 nbformat-5.9.2 referencing-0.30.2 rpds-py-0.10.0\n",
            "Note: you may need to restart the kernel to use updated packages.\n",
            "Note: you may need to restart the kernel to use updated packages.\n",
            "Note: you may need to restart the kernel to use updated packages.\n",
            "Note: you may need to restart the kernel to use updated packages.\n",
            "Note: you may need to restart the kernel to use updated packages.\n",
            "Note: you may need to restart the kernel to use updated packages.\n",
            "Note: you may need to restart the kernel to use updated packages.\n",
            "shape: (1, 1)\n",
            "┌───────────────────────────────────┐\n",
            "│ main.struct_pack(\"9001\" := 131.1… │\n",
            "│ ---                               │\n",
            "│ struct[14]                        │\n",
            "╞═══════════════════════════════════╡\n",
            "│ {131.1,90.39,58.91,70.45,25.61,8… │\n",
            "└───────────────────────────────────┘\n",
            "shape: (1, 1)\n",
            "┌───────────────────────────────────┐\n",
            "│ main.struct_pack(\"9001\" := 134.3… │\n",
            "│ ---                               │\n",
            "│ struct[14]                        │\n",
            "╞═══════════════════════════════════╡\n",
            "│ {134.38,92.65,60.38,72.21,26.25,… │\n",
            "└───────────────────────────────────┘\n",
            "shape: (1, 1)\n",
            "┌───────────────────────────────────┐\n",
            "│ main.struct_pack(\"9001\" := 137.7… │\n",
            "│ ---                               │\n",
            "│ struct[14]                        │\n",
            "╞═══════════════════════════════════╡\n",
            "│ {137.74,94.97,61.89,74.02,26.91,… │\n",
            "└───────────────────────────────────┘\n",
            "shape: (1, 1)\n",
            "┌───────────────────────────────────┐\n",
            "│ main.struct_pack(\"9001\" := 151.7… │\n",
            "│ ---                               │\n",
            "│ struct[14]                        │\n",
            "╞═══════════════════════════════════╡\n",
            "│ {151.77,104.64,68.2,81.55,29.64,… │\n",
            "└───────────────────────────────────┘\n"
          ]
        },
        {
          "ename": "IOException",
          "evalue": "IO Error: No files found that match the pattern \"..data/obt_sales.csv\"",
          "output_type": "error",
          "traceback": [
            "\u001b[1;31m---------------------------------------------------------------------------\u001b[0m",
            "\u001b[1;31mIOException\u001b[0m                               Traceback (most recent call last)",
            "File \u001b[1;32m~\\AppData\\Local\\Temp\\ipykernel_12552\\2534918911.py:6\u001b[0m\n\u001b[0;32m      1\u001b[0m \u001b[39m##obt_sales.csv TABLE & DATAFRAME\u001b[39;00m\n\u001b[0;32m      2\u001b[0m \n\u001b[0;32m      3\u001b[0m \u001b[39m##Table: tblObtSales\u001b[39;00m\n\u001b[0;32m      4\u001b[0m \u001b[39m##DataFrame: dfObtSales\u001b[39;00m\n\u001b[1;32m----> 6\u001b[0m obt_sales_tbl \u001b[39m=\u001b[39m conn\u001b[39m.\u001b[39;49mexecute(\u001b[39m\"\"\"\u001b[39;49m\n\u001b[0;32m      7\u001b[0m \u001b[39m\tSELECT * FROM read_csv_auto(\u001b[39;49m\u001b[39m'\u001b[39;49m\u001b[39m..data/obt_sales.csv\u001b[39;49m\u001b[39m'\u001b[39;49m\u001b[39m, header=Tru, header=True)                   \u001b[39;49m\n\u001b[0;32m      8\u001b[0m \u001b[39m\"\"\"\u001b[39;49m)\u001b[39m.\u001b[39mpl()\u001b[39m.\u001b[39mlazy()\n\u001b[0;32m     10\u001b[0m \u001b[39m# Create a table tbl_obt_sales\u001b[39;00m\n\u001b[0;32m     11\u001b[0m tbl \u001b[39m=\u001b[39m \u001b[39m\"\"\"\u001b[39m\u001b[39mSELECT * FROM obt_sales_tbl\u001b[39m\u001b[39m\"\"\"\u001b[39m\n",
            "\u001b[1;31mIOException\u001b[0m: IO Error: No files found that match the pattern \"..data/obt_sales.csv\""
          ]
        },
        {
          "ename": "IOException",
          "evalue": "IO Error: No files found that match the pattern \"..data/obt_sales.csv\"",
          "output_type": "error",
          "traceback": [
            "\u001b[1;31m---------------------------------------------------------------------------\u001b[0m",
            "\u001b[1;31mIOException\u001b[0m                               Traceback (most recent call last)",
            "Cell \u001b[1;32mIn[1], line 2\u001b[0m\n\u001b[0;32m      1\u001b[0m get_ipython()\u001b[39m.\u001b[39mrun_line_magic(\u001b[39m'\u001b[39m\u001b[39mpip\u001b[39m\u001b[39m'\u001b[39m, \u001b[39m'\u001b[39m\u001b[39minstall nbformat\u001b[39m\u001b[39m'\u001b[39m)\n\u001b[1;32m----> 2\u001b[0m get_ipython()\u001b[39m.\u001b[39;49mrun_line_magic(\u001b[39m'\u001b[39;49m\u001b[39mrun\u001b[39;49m\u001b[39m'\u001b[39;49m, \u001b[39m'\u001b[39;49m\u001b[39mddb_dataload.ipynb\u001b[39;49m\u001b[39m'\u001b[39;49m)\n",
            "File \u001b[1;32mg:\\My Drive\\__Modern Data Stack\\Github\\B2B-Company\\venv\\Lib\\site-packages\\IPython\\core\\interactiveshell.py:2417\u001b[0m, in \u001b[0;36mInteractiveShell.run_line_magic\u001b[1;34m(self, magic_name, line, _stack_depth)\u001b[0m\n\u001b[0;32m   2415\u001b[0m     kwargs[\u001b[39m'\u001b[39m\u001b[39mlocal_ns\u001b[39m\u001b[39m'\u001b[39m] \u001b[39m=\u001b[39m \u001b[39mself\u001b[39m\u001b[39m.\u001b[39mget_local_scope(stack_depth)\n\u001b[0;32m   2416\u001b[0m \u001b[39mwith\u001b[39;00m \u001b[39mself\u001b[39m\u001b[39m.\u001b[39mbuiltin_trap:\n\u001b[1;32m-> 2417\u001b[0m     result \u001b[39m=\u001b[39m fn(\u001b[39m*\u001b[39;49margs, \u001b[39m*\u001b[39;49m\u001b[39m*\u001b[39;49mkwargs)\n\u001b[0;32m   2419\u001b[0m \u001b[39m# The code below prevents the output from being displayed\u001b[39;00m\n\u001b[0;32m   2420\u001b[0m \u001b[39m# when using magics with decodator @output_can_be_silenced\u001b[39;00m\n\u001b[0;32m   2421\u001b[0m \u001b[39m# when the last Python token in the expression is a ';'.\u001b[39;00m\n\u001b[0;32m   2422\u001b[0m \u001b[39mif\u001b[39;00m \u001b[39mgetattr\u001b[39m(fn, magic\u001b[39m.\u001b[39mMAGIC_OUTPUT_CAN_BE_SILENCED, \u001b[39mFalse\u001b[39;00m):\n",
            "File \u001b[1;32mg:\\My Drive\\__Modern Data Stack\\Github\\B2B-Company\\venv\\Lib\\site-packages\\IPython\\core\\magics\\execution.py:722\u001b[0m, in \u001b[0;36mExecutionMagics.run\u001b[1;34m(self, parameter_s, runner, file_finder)\u001b[0m\n\u001b[0;32m    720\u001b[0m     \u001b[39mwith\u001b[39;00m preserve_keys(\u001b[39mself\u001b[39m\u001b[39m.\u001b[39mshell\u001b[39m.\u001b[39muser_ns, \u001b[39m'\u001b[39m\u001b[39m__file__\u001b[39m\u001b[39m'\u001b[39m):\n\u001b[0;32m    721\u001b[0m         \u001b[39mself\u001b[39m\u001b[39m.\u001b[39mshell\u001b[39m.\u001b[39muser_ns[\u001b[39m'\u001b[39m\u001b[39m__file__\u001b[39m\u001b[39m'\u001b[39m] \u001b[39m=\u001b[39m filename\n\u001b[1;32m--> 722\u001b[0m         \u001b[39mself\u001b[39;49m\u001b[39m.\u001b[39;49mshell\u001b[39m.\u001b[39;49msafe_execfile_ipy(filename, raise_exceptions\u001b[39m=\u001b[39;49m\u001b[39mTrue\u001b[39;49;00m)\n\u001b[0;32m    723\u001b[0m     \u001b[39mreturn\u001b[39;00m\n\u001b[0;32m    725\u001b[0m \u001b[39m# Control the response to exit() calls made by the script being run\u001b[39;00m\n",
            "File \u001b[1;32mg:\\My Drive\\__Modern Data Stack\\Github\\B2B-Company\\venv\\Lib\\site-packages\\IPython\\core\\interactiveshell.py:2939\u001b[0m, in \u001b[0;36mInteractiveShell.safe_execfile_ipy\u001b[1;34m(self, fname, shell_futures, raise_exceptions)\u001b[0m\n\u001b[0;32m   2937\u001b[0m result \u001b[39m=\u001b[39m \u001b[39mself\u001b[39m\u001b[39m.\u001b[39mrun_cell(cell, silent\u001b[39m=\u001b[39m\u001b[39mTrue\u001b[39;00m, shell_futures\u001b[39m=\u001b[39mshell_futures)\n\u001b[0;32m   2938\u001b[0m \u001b[39mif\u001b[39;00m raise_exceptions:\n\u001b[1;32m-> 2939\u001b[0m     result\u001b[39m.\u001b[39;49mraise_error()\n\u001b[0;32m   2940\u001b[0m \u001b[39melif\u001b[39;00m \u001b[39mnot\u001b[39;00m result\u001b[39m.\u001b[39msuccess:\n\u001b[0;32m   2941\u001b[0m     \u001b[39mbreak\u001b[39;00m\n",
            "File \u001b[1;32mg:\\My Drive\\__Modern Data Stack\\Github\\B2B-Company\\venv\\Lib\\site-packages\\IPython\\core\\interactiveshell.py:268\u001b[0m, in \u001b[0;36mExecutionResult.raise_error\u001b[1;34m(self)\u001b[0m\n\u001b[0;32m    266\u001b[0m     \u001b[39mraise\u001b[39;00m \u001b[39mself\u001b[39m\u001b[39m.\u001b[39merror_before_exec\n\u001b[0;32m    267\u001b[0m \u001b[39mif\u001b[39;00m \u001b[39mself\u001b[39m\u001b[39m.\u001b[39merror_in_exec \u001b[39mis\u001b[39;00m \u001b[39mnot\u001b[39;00m \u001b[39mNone\u001b[39;00m:\n\u001b[1;32m--> 268\u001b[0m     \u001b[39mraise\u001b[39;00m \u001b[39mself\u001b[39m\u001b[39m.\u001b[39merror_in_exec\n",
            "    \u001b[1;31m[... skipping hidden 1 frame]\u001b[0m\n",
            "File \u001b[1;32m~\\AppData\\Local\\Temp\\ipykernel_12552\\2534918911.py:6\u001b[0m\n\u001b[0;32m      1\u001b[0m \u001b[39m##obt_sales.csv TABLE & DATAFRAME\u001b[39;00m\n\u001b[0;32m      2\u001b[0m \n\u001b[0;32m      3\u001b[0m \u001b[39m##Table: tblObtSales\u001b[39;00m\n\u001b[0;32m      4\u001b[0m \u001b[39m##DataFrame: dfObtSales\u001b[39;00m\n\u001b[1;32m----> 6\u001b[0m obt_sales_tbl \u001b[39m=\u001b[39m conn\u001b[39m.\u001b[39;49mexecute(\u001b[39m\"\"\"\u001b[39;49m\n\u001b[0;32m      7\u001b[0m \u001b[39m\tSELECT * FROM read_csv_auto(\u001b[39;49m\u001b[39m'\u001b[39;49m\u001b[39m..data/obt_sales.csv\u001b[39;49m\u001b[39m'\u001b[39;49m\u001b[39m, header=Tru, header=True)                   \u001b[39;49m\n\u001b[0;32m      8\u001b[0m \u001b[39m\"\"\"\u001b[39;49m)\u001b[39m.\u001b[39mpl()\u001b[39m.\u001b[39mlazy()\n\u001b[0;32m     10\u001b[0m \u001b[39m# Create a table tbl_obt_sales\u001b[39;00m\n\u001b[0;32m     11\u001b[0m tbl \u001b[39m=\u001b[39m \u001b[39m\"\"\"\u001b[39m\u001b[39mSELECT * FROM obt_sales_tbl\u001b[39m\u001b[39m\"\"\"\u001b[39m\n",
            "\u001b[1;31mIOException\u001b[0m: IO Error: No files found that match the pattern \"..data/obt_sales.csv\""
          ]
        }
      ],
      "source": [
        "%pip install nbformat\n",
        "%run ddb_dataload.ipynb"
      ]
    },
    {
      "cell_type": "code",
      "execution_count": 2,
      "id": "57752605",
      "metadata": {},
      "outputs": [
        {
          "ename": "CatalogException",
          "evalue": "Catalog Error: Table with name tblSales does not exist!\nDid you mean \"information_schema.tables\"?",
          "output_type": "error",
          "traceback": [
            "\u001b[1;31m---------------------------------------------------------------------------\u001b[0m",
            "\u001b[1;31mCatalogException\u001b[0m                          Traceback (most recent call last)",
            "Cell \u001b[1;32mIn[2], line 3\u001b[0m\n\u001b[0;32m      1\u001b[0m \u001b[39m##Query Join\u001b[39;00m\n\u001b[1;32m----> 3\u001b[0m q \u001b[39m=\u001b[39m conn\u001b[39m.\u001b[39;49mexecute(\u001b[39m\"\"\"\u001b[39;49m\n\u001b[0;32m      4\u001b[0m \u001b[39m    SELECT s.Customer_Id, c.Customer_Id\u001b[39;49m\n\u001b[0;32m      5\u001b[0m \u001b[39m        FROM tblSales s\u001b[39;49m\n\u001b[0;32m      6\u001b[0m \u001b[39m        INNER JOIN tblCustomer c\u001b[39;49m\n\u001b[0;32m      7\u001b[0m \u001b[39m            ON c.Customer_Id = s.Customer_Id\u001b[39;49m\n\u001b[0;32m      8\u001b[0m \u001b[39m    \u001b[39;49m\u001b[39m\"\"\"\u001b[39;49m\n\u001b[0;32m      9\u001b[0m )\u001b[39m.\u001b[39mpl()\n\u001b[0;32m     11\u001b[0m display(\u001b[39mtype\u001b[39m(q))\n\u001b[0;32m     12\u001b[0m \u001b[39mprint\u001b[39m(q)\n",
            "\u001b[1;31mCatalogException\u001b[0m: Catalog Error: Table with name tblSales does not exist!\nDid you mean \"information_schema.tables\"?"
          ]
        }
      ],
      "source": [
        "##Query Join\n",
        "\n",
        "q = conn.execute(\"\"\"\n",
        "    SELECT s.Customer_Id, c.Customer_Id\n",
        "        FROM tblSales s\n",
        "        INNER JOIN tblCustomer c\n",
        "            ON c.Customer_Id = s.Customer_Id\n",
        "    \"\"\"\n",
        ").pl()\n",
        "\n",
        "display(type(q))\n",
        "print(q)"
      ]
    },
    {
      "cell_type": "code",
      "execution_count": 22,
      "id": "b35e53d1",
      "metadata": {},
      "outputs": [],
      "source": [
        "#results2.write_csv('../output/duckdb_results.csv')"
      ]
    }
  ],
  "metadata": {
    "kernelspec": {
      "display_name": "venv",
      "language": "python",
      "name": "python3"
    },
    "language_info": {
      "codemirror_mode": {
        "name": "ipython",
        "version": 3
      },
      "file_extension": ".py",
      "mimetype": "text/x-python",
      "name": "python",
      "nbconvert_exporter": "python",
      "pygments_lexer": "ipython3",
      "version": "3.11.4"
    },
    "orig_nbformat": 4,
    "selected_hardware_size": "small"
  },
  "nbformat": 4,
  "nbformat_minor": 5
}
