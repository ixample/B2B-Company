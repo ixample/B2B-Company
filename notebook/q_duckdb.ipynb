{
  "cells": [
    {
      "cell_type": "code",
      "execution_count": null,
      "id": "dcc9b65c",
      "metadata": {},
      "outputs": [],
      "source": [
        "%pip install nbformat\n",
        "%run ddb_dataload.ipynb"
      ]
    },
    {
      "cell_type": "code",
      "execution_count": null,
      "id": "57752605",
      "metadata": {},
      "outputs": [],
      "source": [
        "##Query Join\n",
        "\n",
        "q = conn.execute(\"\"\"\n",
        "    SELECT s.Customer_Id, c.Customer_Id\n",
        "        FROM tblSales s\n",
        "        INNER JOIN tblCustomer c\n",
        "            ON c.Customer_Id = s.Customer_Id\n",
        "    \"\"\"\n",
        ").pl()\n",
        "\n",
        "display(type(q))\n",
        "print(q)"
      ]
    },
    {
      "cell_type": "code",
      "execution_count": null,
      "id": "b35e53d1",
      "metadata": {},
      "outputs": [],
      "source": [
        "#results2.write_csv('../output/duckdb_results.csv')"
      ]
    }
  ],
  "metadata": {
    "kernelspec": {
      "display_name": "venv",
      "language": "python",
      "name": "python3"
    },
    "language_info": {
      "codemirror_mode": {
        "name": "ipython",
        "version": 3
      },
      "file_extension": ".py",
      "mimetype": "text/x-python",
      "name": "python",
      "nbconvert_exporter": "python",
      "pygments_lexer": "ipython3",
      "version": "3.11.4"
    },
    "orig_nbformat": 4,
    "selected_hardware_size": "small"
  },
  "nbformat": 4,
  "nbformat_minor": 5
}
