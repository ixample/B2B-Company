{
 "cells": [
  {
   "cell_type": "code",
   "execution_count": null,
   "metadata": {},
   "outputs": [],
   "source": [
    "#%pip install polars --quiet\n",
    "#%pip install duckdb --quiet\n",
    "#%pip install pyarrow --quiet\n",
    "#%pip install pandas --quiet\n",
    "#%pip install polars --quiet\n",
    "#%pip install numpy --quiet"
   ]
  },
  {
   "cell_type": "code",
   "execution_count": 3,
   "metadata": {},
   "outputs": [],
   "source": [
    "import polars as pl\n",
    "from datetime import datetime, timedelta\n",
    "import numpy as np\n",
    "import pandas as pd\n",
    "import pyarrow as pa\n",
    "import glob\n",
    "import time\n",
    "import duckdb"
   ]
  },
  {
   "cell_type": "code",
   "execution_count": 4,
   "metadata": {},
   "outputs": [
    {
     "data": {
      "text/plain": [
       "polars.dataframe.frame.DataFrame"
      ]
     },
     "metadata": {},
     "output_type": "display_data"
    },
    {
     "name": "stdout",
     "output_type": "stream",
     "text": [
      "shape: (9_994, 4)\n",
      "┌─────────────┬───────────────────┬──────────┬───────────┐\n",
      "│ customer_id ┆ customer          ┆ industry ┆ segment   │\n",
      "│ ---         ┆ ---               ┆ ---      ┆ ---       │\n",
      "│ i64         ┆ str               ┆ str      ┆ str       │\n",
      "╞═════════════╪═══════════════════╪══════════╪═══════════╡\n",
      "│ 1017        ┆ Chevron           ┆ Energy   ┆ SMB       │\n",
      "│ 1056        ┆ Phillips 66       ┆ Energy   ┆ Strategic │\n",
      "│ 1031        ┆ Royal Dutch Shell ┆ Energy   ┆ SMB       │\n",
      "│ 1065        ┆ BNP Paribas       ┆ Finance  ┆ SMB       │\n",
      "│ …           ┆ …                 ┆ …        ┆ …         │\n",
      "│ null        ┆ null              ┆ null     ┆ null      │\n",
      "│ null        ┆ null              ┆ null     ┆ null      │\n",
      "│ null        ┆ null              ┆ null     ┆ null      │\n",
      "│ null        ┆ null              ┆ null     ┆ null      │\n",
      "└─────────────┴───────────────────┴──────────┴───────────┘\n"
     ]
    }
   ],
   "source": [
    "##Polars\n",
    "\n",
    "#today = datetime.date.today()\n",
    "\n",
    "def data_load_customer(df):\n",
    "    df = pl.read_csv('../data/customer.csv')\n",
    "    df = df.lazy()\n",
    "    return df\n",
    "\n",
    "df_output = (\n",
    "    pl.DataFrame()\n",
    "    .pipe(data_load_customer)\n",
    "    #.pipe(filter_data)\n",
    "    .collect()\n",
    "    #.head(3)\n",
    ")\n",
    "\n",
    "display(type(df_output))\n",
    "print(df_output)\n"
   ]
  }
 ],
 "metadata": {
  "kernelspec": {
   "display_name": "venv",
   "language": "python",
   "name": "python3"
  },
  "language_info": {
   "codemirror_mode": {
    "name": "ipython",
    "version": 3
   },
   "file_extension": ".py",
   "mimetype": "text/x-python",
   "name": "python",
   "nbconvert_exporter": "python",
   "pygments_lexer": "ipython3",
   "version": "3.11.4"
  },
  "orig_nbformat": 4
 },
 "nbformat": 4,
 "nbformat_minor": 2
}
