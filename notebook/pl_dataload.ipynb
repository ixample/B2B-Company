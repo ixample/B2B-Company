{
 "cells": [
  {
   "cell_type": "code",
   "execution_count": null,
   "metadata": {},
   "outputs": [],
   "source": [
    "#%pip install polars --quiet\n",
    "#%pip install duckdb --quiet\n",
    "#%pip install pyarrow --quiet\n",
    "#%pip install pandas --quiet\n",
    "#%pip install polars --quiet\n",
    "#%pip install numpy --quiet"
   ]
  },
  {
   "cell_type": "code",
   "execution_count": 3,
   "metadata": {},
   "outputs": [],
   "source": [
    "import polars as pl\n",
    "from datetime import datetime, timedelta\n",
    "import numpy as np\n",
    "import pandas as pd\n",
    "import pyarrow as pa\n",
    "import glob\n",
    "import time\n",
    "import duckdb"
   ]
  },
  {
   "cell_type": "code",
   "execution_count": null,
   "metadata": {},
   "outputs": [],
   "source": [
    "product_pricing = pl.DataFrame(\n",
    "    {\n",
    "    \"id\": [9001, 9002, 9003, 9004, 9005, 9006, 9007, 9008, 9009, 9010, 9011, 9012, 9013, 9014],\n",
    "    \"y_2020\": [131.1, 90.39, 58.91, 70.45, 25.61, 8.82, 101.13, 60.62, 22.12, 55.36, 18.87, 3.29, 423.35, 601.02],\n",
    "    \"y_2021\": [134.38, 92.65, 60.38, 72.21, 26.25, 9.04, 103.66, 62.14, 22.67, 56.74, 19.34, 3.37, 433.93, 616.05],\n",
    "    \"y_2022\": [137.74, 94.97, 61.89, 74.02, 26.91, 9.27, 106.25, 63.69, 23.24, 58.16, 19.82, 3.45, 444.78, 631.45],\n",
    "    \"y_2023\": [151.77, 104.64, 68.2, 81.55, 29.64, 10.21, 117.08, 70.17, 25.61, 64.09, 21.84, 3.8, 490.09, 695.75],     \n",
    "    }\n",
    ")\n",
    "\n",
    "print(type(product_pricing))\n",
    "print(product_pricing)\n",
    "\n",
    "out = product_pricing.select(pl.col(\"id\", \"y_2020\", \"y_2021\", \"y_2022\", \"y_2023\").value_counts(sort=True)).unnest(\"id\")\n",
    "print(out)\n",
    "\n",
    "#df_pandas = df.to_pandas()\n",
    "#print(df_pandas)"
   ]
  },
  {
   "cell_type": "code",
   "execution_count": 4,
   "metadata": {},
   "outputs": [
    {
     "data": {
      "text/plain": [
       "polars.dataframe.frame.DataFrame"
      ]
     },
     "metadata": {},
     "output_type": "display_data"
    },
    {
     "name": "stdout",
     "output_type": "stream",
     "text": [
      "shape: (9_994, 4)\n",
      "┌─────────────┬───────────────────┬──────────┬───────────┐\n",
      "│ customer_id ┆ customer          ┆ industry ┆ segment   │\n",
      "│ ---         ┆ ---               ┆ ---      ┆ ---       │\n",
      "│ i64         ┆ str               ┆ str      ┆ str       │\n",
      "╞═════════════╪═══════════════════╪══════════╪═══════════╡\n",
      "│ 1017        ┆ Chevron           ┆ Energy   ┆ SMB       │\n",
      "│ 1056        ┆ Phillips 66       ┆ Energy   ┆ Strategic │\n",
      "│ 1031        ┆ Royal Dutch Shell ┆ Energy   ┆ SMB       │\n",
      "│ 1065        ┆ BNP Paribas       ┆ Finance  ┆ SMB       │\n",
      "│ …           ┆ …                 ┆ …        ┆ …         │\n",
      "│ null        ┆ null              ┆ null     ┆ null      │\n",
      "│ null        ┆ null              ┆ null     ┆ null      │\n",
      "│ null        ┆ null              ┆ null     ┆ null      │\n",
      "│ null        ┆ null              ┆ null     ┆ null      │\n",
      "└─────────────┴───────────────────┴──────────┴───────────┘\n"
     ]
    }
   ],
   "source": [
    "##Polars\n",
    "\n",
    "#today = datetime.date.today()\n",
    "\n",
    "def data_load_customer(df):\n",
    "    df = pl.read_csv('../data/customer.csv')\n",
    "    df = df.lazy()\n",
    "    return df\n",
    "\n",
    "df_output = (\n",
    "    pl.DataFrame()\n",
    "    .pipe(data_load_customer)\n",
    "    #.pipe(filter_data)\n",
    "    .collect()\n",
    "    #.head(3)\n",
    ")\n",
    "\n",
    "display(type(df_output))\n",
    "print(df_output)\n"
   ]
  }
 ],
 "metadata": {
  "kernelspec": {
   "display_name": "venv",
   "language": "python",
   "name": "python3"
  },
  "language_info": {
   "codemirror_mode": {
    "name": "ipython",
    "version": 3
   },
   "file_extension": ".py",
   "mimetype": "text/x-python",
   "name": "python",
   "nbconvert_exporter": "python",
   "pygments_lexer": "ipython3",
   "version": "3.11.4"
  },
  "orig_nbformat": 4
 },
 "nbformat": 4,
 "nbformat_minor": 2
}
