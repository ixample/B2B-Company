{
  "cells": [
    {
      "cell_type": "code",
      "execution_count": null,
      "id": "b753f111",
      "metadata": {},
      "outputs": [],
      "source": [
        "#%pip install polars --quiet\n",
        "#%pip install duckdb --quiet\n",
        "#%pip install pyarrow --quiet\n",
        "#%pip install pandas --quiet\n",
        "#%pip install polars --quiet\n",
        "#%pip install numpy --quiet"
      ]
    },
    {
      "cell_type": "code",
      "execution_count": 2,
      "id": "affd5219",
      "metadata": {
        "ExecuteTime": {
          "end_time": "2023-09-02T09:40:15.619779+00:00",
          "start_time": "2023-09-02T09:40:15.463700+00:00"
        },
        "noteable": {
          "output_collection_id": "ebb038c8-3d1d-495d-bf6b-dba406ae2aa4"
        }
      },
      "outputs": [],
      "source": [
        "import polars as pl\n",
        "from datetime import datetime, timedelta\n",
        "import numpy as np\n",
        "import pandas as pd\n",
        "import pyarrow as pa\n",
        "import glob\n",
        "import time\n",
        "import duckdb"
      ]
    },
    {
      "cell_type": "code",
      "execution_count": null,
      "id": "7d2828a3-a43f-45f7-ac91-655cc314a0a5",
      "metadata": {
        "jupyter": {
          "outputs_hidden": false,
          "source_hidden": false
        },
        "noteable": {
          "cell_type": "code"
        }
      },
      "outputs": [],
      "source": [
        "product_pricing = pl.DataFrame(\n",
        "    {\n",
        "    \"id\": [9001, 9002, 9003, 9004, 9005, 9006, 9007, 9008, 9009, 9010, 9011, 9012, 9013, 9014],\n",
        "    \"y_2020\": [131.1, 90.39, 58.91, 70.45, 25.61, 8.82, 101.13, 60.62, 22.12, 55.36, 18.87, 3.29, 423.35, 601.02],\n",
        "    \"y_2021\": [134.38, 92.65, 60.38, 72.21, 26.25, 9.04, 103.66, 62.14, 22.67, 56.74, 19.34, 3.37, 433.93, 616.05],\n",
        "    \"y_2022\": [137.74, 94.97, 61.89, 74.02, 26.91, 9.27, 106.25, 63.69, 23.24, 58.16, 19.82, 3.45, 444.78, 631.45],\n",
        "    \"y_2023\": [151.77, 104.64, 68.2, 81.55, 29.64, 10.21, 117.08, 70.17, 25.61, 64.09, 21.84, 3.8, 490.09, 695.75],     \n",
        "    }\n",
        ")\n",
        "\n",
        "print(type(product_pricing))\n",
        "print(product_pricing)\n",
        "\n",
        "out = product_pricing.select(pl.col(\"id\", \"y_2020\", \"y_2021\", \"y_2022\", \"y_2023\").value_counts(sort=True)).unnest(\"id\")\n",
        "print(out)\n",
        "\n",
        "#df_pandas = df.to_pandas()\n",
        "#print(df_pandas)"
      ]
    },
    {
      "cell_type": "code",
      "execution_count": null,
      "id": "2f545f7e-50c6-4353-847e-23e0c41c4676",
      "metadata": {
        "jupyter": {
          "outputs_hidden": false,
          "source_hidden": false
        },
        "noteable": {
          "cell_type": "code"
        }
      },
      "outputs": [],
      "source": [
        "##Polars\n",
        "##DataFrame: df_obt_sales\n",
        "\n",
        "#today = datetime.date.today()\n",
        "\n",
        "def dataload_obt_sales(df):\n",
        "    df = pl.read_csv('..data/obt_sales.csv')\n",
        "    df = df.lazy()\n",
        "    return df\n",
        "\n",
        "df_obt_sales = (\n",
        "    pl.DataFrame()\n",
        "    .pipe(dataload_obt_sales)\n",
        "    #.pipe(filter_data)\n",
        "    .collect()\n",
        "    #.head(3)\n",
        ")\n",
        "\n",
        "display(type(df_obt_sales))\n",
        "print(df_obt_sales)"
      ]
    },
    {
      "cell_type": "code",
      "execution_count": 4,
      "id": "6105eab7",
      "metadata": {
        "ExecuteTime": {
          "end_time": "2023-09-02T09:21:13.903806+00:00",
          "start_time": "2023-09-02T09:21:13.743272+00:00"
        },
        "jupyter": {
          "outputs_hidden": true
        },
        "noteable": {
          "output_collection_id": "3f0d1f57-e1c7-40a0-a73a-1c903cc06f65"
        }
      },
      "outputs": [],
      "source": [
        "##Polars\n",
        "##DataFrame: df_customer\n",
        "\n",
        "#today = datetime.date.today()\n",
        "\n",
        "def dataload_customer(df):\n",
        "    df = pl.read_csv('..data/customer.csv')\n",
        "    df = df.lazy()\n",
        "    return df\n",
        "\n",
        "df_customer = (\n",
        "    pl.DataFrame()\n",
        "    .pipe(dataload_customer)\n",
        "    #.pipe(filter_data)\n",
        "    .collect()\n",
        "    #.head(3)\n",
        ")\n",
        "\n",
        "display(type(df_customer))\n",
        "print(df_customer)\n"
      ]
    },
    {
      "cell_type": "code",
      "execution_count": null,
      "id": "405a2a3f-64bc-47fb-a2d7-bbd18f3a1077",
      "metadata": {
        "ExecuteTime": {
          "end_time": "2023-09-02T10:08:06.251801+00:00",
          "start_time": "2023-09-02T10:08:06.094503+00:00"
        },
        "datalink": {
          "03e01ee1-0ed3-4757-a5ad-db6500db5814": {
            "applied_filters": [],
            "dataframe_info": {
              "default_index_used": true,
              "orig_num_cols": 4,
              "orig_num_rows": 14,
              "orig_size_bytes": 560,
              "truncated_num_cols": 4,
              "truncated_num_rows": 14,
              "truncated_size_bytes": 560,
              "truncated_string_columns": []
            },
            "display_id": "03e01ee1-0ed3-4757-a5ad-db6500db5814",
            "dx_settings": {
              "ALLOW_NOTEABLE_ATTRS": true,
              "COLUMN_SAMPLING_METHOD": "outer",
              "DB_LOCATION": ":memory:",
              "DEV_MODE": false,
              "DISPLAY_MAX_COLUMNS": 100,
              "DISPLAY_MAX_ROWS": 50000,
              "DISPLAY_MODE": "simple",
              "ENABLE_ASSIGNMENT": true,
              "ENABLE_DATALINK": true,
              "FLATTEN_COLUMN_VALUES": true,
              "FLATTEN_INDEX_VALUES": false,
              "GENERATE_DEX_METADATA": false,
              "HTML_TABLE_SCHEMA": false,
              "LOG_LEVEL": 30,
              "MAX_RENDER_SIZE_BYTES": 104857600,
              "MAX_STRING_LENGTH": 250,
              "NUM_PAST_SAMPLES_TRACKED": 3,
              "RANDOM_STATE": 12648430,
              "RESET_INDEX_VALUES": false,
              "ROW_SAMPLING_METHOD": "random",
              "SAMPLING_FACTOR": 0.1,
              "SAMPLING_METHOD": "random",
              "STRINGIFY_COLUMN_VALUES": true,
              "STRINGIFY_INDEX_VALUES": false
            },
            "sample_history": [],
            "sampling_time": "2023-09-02T09:24:13.944839",
            "user_variable_name": "product_pricing",
            "variable_name": "product_pricing"
          },
          "fc91a30c-b617-4b42-bc8d-b7e6da1cd9f9": {
            "applied_filters": [],
            "dataframe_info": {
              "default_index_used": true,
              "orig_num_cols": 4,
              "orig_num_rows": 14,
              "orig_size_bytes": 560,
              "truncated_num_cols": 4,
              "truncated_num_rows": 14,
              "truncated_size_bytes": 560,
              "truncated_string_columns": []
            },
            "display_id": "fc91a30c-b617-4b42-bc8d-b7e6da1cd9f9",
            "dx_settings": {
              "ALLOW_NOTEABLE_ATTRS": true,
              "COLUMN_SAMPLING_METHOD": "outer",
              "DB_LOCATION": ":memory:",
              "DEV_MODE": false,
              "DISPLAY_MAX_COLUMNS": 100,
              "DISPLAY_MAX_ROWS": 50000,
              "DISPLAY_MODE": "simple",
              "ENABLE_ASSIGNMENT": true,
              "ENABLE_DATALINK": true,
              "FLATTEN_COLUMN_VALUES": true,
              "FLATTEN_INDEX_VALUES": false,
              "GENERATE_DEX_METADATA": false,
              "HTML_TABLE_SCHEMA": false,
              "LOG_LEVEL": 30,
              "MAX_RENDER_SIZE_BYTES": 104857600,
              "MAX_STRING_LENGTH": 250,
              "NUM_PAST_SAMPLES_TRACKED": 3,
              "RANDOM_STATE": 12648430,
              "RESET_INDEX_VALUES": false,
              "ROW_SAMPLING_METHOD": "random",
              "SAMPLING_FACTOR": 0.1,
              "SAMPLING_METHOD": "random",
              "STRINGIFY_COLUMN_VALUES": true,
              "STRINGIFY_INDEX_VALUES": false
            },
            "sample_history": [],
            "sampling_time": "2023-09-02T09:23:55.852328",
            "user_variable_name": "product_pricing",
            "variable_name": "product_pricing"
          }
        },
        "jupyter": {
          "outputs_hidden": true,
          "source_hidden": false
        },
        "noteable": {
          "cell_type": "code",
          "output_collection_id": "a2cd73fc-4e00-49d7-8364-42478ca462eb"
        }
      },
      "outputs": [],
      "source": [
        "##Polars\n",
        "##DataFrame: df_products\n",
        "\n",
        "#today = datetime.date.today()\n",
        "\n",
        "def dataload_products(df):\n",
        "    df = pl.read_csv('..data/products.csv')\n",
        "    df = df.lazy()\n",
        "    return df\n",
        "\n",
        "df_products = (\n",
        "    pl.DataFrame()\n",
        "    .pipe(dataload_products)\n",
        "    #.pipe(filter_data)\n",
        "    .collect()\n",
        "    #.head(3)\n",
        ")\n",
        "\n",
        "display(type(df_products))\n",
        "print(df_products)"
      ]
    },
    {
      "cell_type": "code",
      "execution_count": null,
      "id": "3ca7cbad-b44b-4f29-80e5-0908f91d3540",
      "metadata": {
        "jupyter": {
          "outputs_hidden": false,
          "source_hidden": false
        },
        "noteable": {
          "cell_type": "code"
        }
      },
      "outputs": [],
      "source": [
        "##Polars\n",
        "##DataFrame: df_sales\n",
        "\n",
        "#today = datetime.date.today()\n",
        "\n",
        "def dataload_sales(df):\n",
        "    df = pl.read_csv('..data/sales.csv')\n",
        "    df = df.lazy()\n",
        "    return df\n",
        "\n",
        "df_sales = (\n",
        "    pl.DataFrame()\n",
        "    .pipe(dataload_sales)\n",
        "    #.pipe(filter_data)\n",
        "    .collect()\n",
        "    #.head(3)\n",
        ")\n",
        "\n",
        "display(type(df_sales))\n",
        "print(df_sales)"
      ]
    },
    {
      "cell_type": "code",
      "execution_count": null,
      "id": "67a5c3b3-004c-470d-8227-7066890068e9",
      "metadata": {
        "jupyter": {
          "outputs_hidden": false,
          "source_hidden": false
        },
        "noteable": {
          "cell_type": "code"
        }
      },
      "outputs": [],
      "source": [
        "##Polars\n",
        "##DataFrame: df_salesman\n",
        "\n",
        "#today = datetime.date.today()\n",
        "\n",
        "def dataload_salesman(df):\n",
        "    df = pl.read_csv('..data/salesman.csv')\n",
        "    df = df.lazy()\n",
        "    return df\n",
        "\n",
        "df_salesman = (\n",
        "    pl.DataFrame()\n",
        "    .pipe(dataload_salesman)\n",
        "    #.pipe(filter_data)\n",
        "    .collect()\n",
        "    #.head(3)\n",
        ")\n",
        "\n",
        "display(type(df_salesman))\n",
        "print(df_salesman)"
      ]
    }
  ],
  "metadata": {
    "kernel_info": {
      "name": "python3"
    },
    "kernelspec": {
      "display_name": "Python 3.9",
      "language": "python",
      "name": "python3"
    },
    "language_info": {
      "codemirror_mode": {
        "name": "ipython",
        "version": 3
      },
      "file_extension": ".py",
      "mimetype": "text/x-python",
      "name": "python",
      "nbconvert_exporter": "python",
      "pygments_lexer": "ipython3",
      "version": "3.11.4"
    },
    "orig_nbformat": 4,
    "selected_hardware_size": "small"
  },
  "nbformat": 4,
  "nbformat_minor": 5
}
