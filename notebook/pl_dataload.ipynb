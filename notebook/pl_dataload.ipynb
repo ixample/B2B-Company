{
  "cells": [
    {
      "cell_type": "code",
      "execution_count": null,
      "id": "b753f111",
      "metadata": {},
      "outputs": [],
      "source": [
        "#%pip install polars --quiet\n",
        "#%pip install duckdb --quiet\n",
        "#%pip install pyarrow --quiet\n",
        "#%pip install pandas --quiet\n",
        "#%pip install polars --quiet\n",
        "#%pip install numpy --quiet"
      ]
    },
    {
      "cell_type": "code",
      "execution_count": 2,
      "id": "affd5219",
      "metadata": {
        "ExecuteTime": {
          "end_time": "2023-09-02T09:40:15.619779+00:00",
          "start_time": "2023-09-02T09:40:15.463700+00:00"
        },
        "noteable": {
          "output_collection_id": "ebb038c8-3d1d-495d-bf6b-dba406ae2aa4"
        }
      },
      "outputs": [],
      "source": [
        "import polars as pl\n",
        "from datetime import datetime, timedelta\n",
        "import numpy as np\n",
        "import pandas as pd\n",
        "import pyarrow as pa\n",
        "import glob\n",
        "import time\n",
        "import duckdb"
      ]
    },
    {
      "cell_type": "code",
      "execution_count": 3,
      "id": "7d2828a3-a43f-45f7-ac91-655cc314a0a5",
      "metadata": {
        "jupyter": {
          "outputs_hidden": false,
          "source_hidden": false
        },
        "noteable": {
          "cell_type": "code"
        }
      },
      "outputs": [
        {
          "name": "stdout",
          "output_type": "stream",
          "text": [
            "<class 'polars.dataframe.frame.DataFrame'>\n",
            "shape: (14, 5)\n",
            "┌──────┬────────┬────────┬────────┬────────┐\n",
            "│ id   ┆ y_2020 ┆ y_2021 ┆ y_2022 ┆ y_2023 │\n",
            "│ ---  ┆ ---    ┆ ---    ┆ ---    ┆ ---    │\n",
            "│ i64  ┆ f64    ┆ f64    ┆ f64    ┆ f64    │\n",
            "╞══════╪════════╪════════╪════════╪════════╡\n",
            "│ 9001 ┆ 131.1  ┆ 134.38 ┆ 137.74 ┆ 151.77 │\n",
            "│ 9002 ┆ 90.39  ┆ 92.65  ┆ 94.97  ┆ 104.64 │\n",
            "│ 9003 ┆ 58.91  ┆ 60.38  ┆ 61.89  ┆ 68.2   │\n",
            "│ 9004 ┆ 70.45  ┆ 72.21  ┆ 74.02  ┆ 81.55  │\n",
            "│ …    ┆ …      ┆ …      ┆ …      ┆ …      │\n",
            "│ 9011 ┆ 18.87  ┆ 19.34  ┆ 19.82  ┆ 21.84  │\n",
            "│ 9012 ┆ 3.29   ┆ 3.37   ┆ 3.45   ┆ 3.8    │\n",
            "│ 9013 ┆ 423.35 ┆ 433.93 ┆ 444.78 ┆ 490.09 │\n",
            "│ 9014 ┆ 601.02 ┆ 616.05 ┆ 631.45 ┆ 695.75 │\n",
            "└──────┴────────┴────────┴────────┴────────┘\n",
            "shape: (14, 6)\n",
            "┌──────┬────────┬────────────┬────────────┬────────────┬────────────┐\n",
            "│ id   ┆ counts ┆ y_2020     ┆ y_2021     ┆ y_2022     ┆ y_2023     │\n",
            "│ ---  ┆ ---    ┆ ---        ┆ ---        ┆ ---        ┆ ---        │\n",
            "│ i64  ┆ u32    ┆ struct[2]  ┆ struct[2]  ┆ struct[2]  ┆ struct[2]  │\n",
            "╞══════╪════════╪════════════╪════════════╪════════════╪════════════╡\n",
            "│ 9001 ┆ 1      ┆ {131.1,1}  ┆ {134.38,1} ┆ {137.74,1} ┆ {151.77,1} │\n",
            "│ 9002 ┆ 1      ┆ {90.39,1}  ┆ {92.65,1}  ┆ {94.97,1}  ┆ {104.64,1} │\n",
            "│ 9003 ┆ 1      ┆ {58.91,1}  ┆ {60.38,1}  ┆ {61.89,1}  ┆ {68.2,1}   │\n",
            "│ 9004 ┆ 1      ┆ {70.45,1}  ┆ {72.21,1}  ┆ {74.02,1}  ┆ {81.55,1}  │\n",
            "│ …    ┆ …      ┆ …          ┆ …          ┆ …          ┆ …          │\n",
            "│ 9011 ┆ 1      ┆ {18.87,1}  ┆ {19.34,1}  ┆ {19.82,1}  ┆ {21.84,1}  │\n",
            "│ 9012 ┆ 1      ┆ {3.29,1}   ┆ {3.37,1}   ┆ {3.45,1}   ┆ {3.8,1}    │\n",
            "│ 9013 ┆ 1      ┆ {423.35,1} ┆ {433.93,1} ┆ {444.78,1} ┆ {490.09,1} │\n",
            "│ 9014 ┆ 1      ┆ {601.02,1} ┆ {616.05,1} ┆ {631.45,1} ┆ {695.75,1} │\n",
            "└──────┴────────┴────────────┴────────────┴────────────┴────────────┘\n"
          ]
        }
      ],
      "source": [
        "product_pricing = pl.DataFrame(\n",
        "    {\n",
        "    \"id\": [9001, 9002, 9003, 9004, 9005, 9006, 9007, 9008, 9009, 9010, 9011, 9012, 9013, 9014],\n",
        "    \"y_2020\": [131.1, 90.39, 58.91, 70.45, 25.61, 8.82, 101.13, 60.62, 22.12, 55.36, 18.87, 3.29, 423.35, 601.02],\n",
        "    \"y_2021\": [134.38, 92.65, 60.38, 72.21, 26.25, 9.04, 103.66, 62.14, 22.67, 56.74, 19.34, 3.37, 433.93, 616.05],\n",
        "    \"y_2022\": [137.74, 94.97, 61.89, 74.02, 26.91, 9.27, 106.25, 63.69, 23.24, 58.16, 19.82, 3.45, 444.78, 631.45],\n",
        "    \"y_2023\": [151.77, 104.64, 68.2, 81.55, 29.64, 10.21, 117.08, 70.17, 25.61, 64.09, 21.84, 3.8, 490.09, 695.75],     \n",
        "    }\n",
        ")\n",
        "\n",
        "print(type(product_pricing))\n",
        "print(product_pricing)\n",
        "\n",
        "out = product_pricing.select(pl.col(\"id\", \"y_2020\", \"y_2021\", \"y_2022\", \"y_2023\").value_counts(sort=True)).unnest(\"id\")\n",
        "print(out)\n",
        "\n",
        "#df_pandas = df.to_pandas()\n",
        "#print(df_pandas)"
      ]
    },
    {
      "cell_type": "code",
      "execution_count": 4,
      "id": "2f545f7e-50c6-4353-847e-23e0c41c4676",
      "metadata": {
        "jupyter": {
          "outputs_hidden": false,
          "source_hidden": false
        },
        "noteable": {
          "cell_type": "code"
        }
      },
      "outputs": [
        {
          "ename": "FileNotFoundError",
          "evalue": "No such file or directory: ..data/obt_sales.csv",
          "output_type": "error",
          "traceback": [
            "\u001b[1;31m---------------------------------------------------------------------------\u001b[0m",
            "\u001b[1;31mFileNotFoundError\u001b[0m                         Traceback (most recent call last)",
            "Cell \u001b[1;32mIn[4], line 13\u001b[0m\n\u001b[0;32m      8\u001b[0m     df \u001b[39m=\u001b[39m df\u001b[39m.\u001b[39mlazy()\n\u001b[0;32m      9\u001b[0m     \u001b[39mreturn\u001b[39;00m df\n\u001b[0;32m     11\u001b[0m df_obt_sales \u001b[39m=\u001b[39m (\n\u001b[0;32m     12\u001b[0m     pl\u001b[39m.\u001b[39;49mDataFrame()\n\u001b[1;32m---> 13\u001b[0m     \u001b[39m.\u001b[39;49mpipe(dataload_obt_sales)\n\u001b[0;32m     14\u001b[0m     \u001b[39m#.pipe(filter_data)\u001b[39;00m\n\u001b[0;32m     15\u001b[0m     \u001b[39m.\u001b[39mcollect()\n\u001b[0;32m     16\u001b[0m     \u001b[39m#.head(3)\u001b[39;00m\n\u001b[0;32m     17\u001b[0m )\n\u001b[0;32m     19\u001b[0m display(\u001b[39mtype\u001b[39m(df_obt_sales))\n\u001b[0;32m     20\u001b[0m \u001b[39mprint\u001b[39m(df_obt_sales)\n",
            "File \u001b[1;32mg:\\My Drive\\__Modern Data Stack\\Github\\B2B-Company\\venv\\Lib\\site-packages\\polars\\dataframe\\frame.py:4896\u001b[0m, in \u001b[0;36mDataFrame.pipe\u001b[1;34m(self, function, *args, **kwargs)\u001b[0m\n\u001b[0;32m   4829\u001b[0m \u001b[39mdef\u001b[39;00m \u001b[39mpipe\u001b[39m(\n\u001b[0;32m   4830\u001b[0m     \u001b[39mself\u001b[39m,\n\u001b[0;32m   4831\u001b[0m     function: Callable[Concatenate[DataFrame, P], T],\n\u001b[0;32m   4832\u001b[0m     \u001b[39m*\u001b[39margs: P\u001b[39m.\u001b[39margs,\n\u001b[0;32m   4833\u001b[0m     \u001b[39m*\u001b[39m\u001b[39m*\u001b[39mkwargs: P\u001b[39m.\u001b[39mkwargs,\n\u001b[0;32m   4834\u001b[0m ) \u001b[39m-\u001b[39m\u001b[39m>\u001b[39m T:\n\u001b[0;32m   4835\u001b[0m \u001b[39m    \u001b[39m\u001b[39m\"\"\"\u001b[39;00m\n\u001b[0;32m   4836\u001b[0m \u001b[39m    Offers a structured way to apply a sequence of user-defined functions (UDFs).\u001b[39;00m\n\u001b[0;32m   4837\u001b[0m \n\u001b[1;32m   (...)\u001b[0m\n\u001b[0;32m   4894\u001b[0m \n\u001b[0;32m   4895\u001b[0m \u001b[39m    \"\"\"\u001b[39;00m\n\u001b[1;32m-> 4896\u001b[0m     \u001b[39mreturn\u001b[39;00m function(\u001b[39mself\u001b[39;49m, \u001b[39m*\u001b[39;49margs, \u001b[39m*\u001b[39;49m\u001b[39m*\u001b[39;49mkwargs)\n",
            "Cell \u001b[1;32mIn[4], line 7\u001b[0m, in \u001b[0;36mdataload_obt_sales\u001b[1;34m(df)\u001b[0m\n\u001b[0;32m      6\u001b[0m \u001b[39mdef\u001b[39;00m \u001b[39mdataload_obt_sales\u001b[39m(df):\n\u001b[1;32m----> 7\u001b[0m     df \u001b[39m=\u001b[39m pl\u001b[39m.\u001b[39;49mread_csv(\u001b[39m'\u001b[39;49m\u001b[39m..data/obt_sales.csv\u001b[39;49m\u001b[39m'\u001b[39;49m)\n\u001b[0;32m      8\u001b[0m     df \u001b[39m=\u001b[39m df\u001b[39m.\u001b[39mlazy()\n\u001b[0;32m      9\u001b[0m     \u001b[39mreturn\u001b[39;00m df\n",
            "File \u001b[1;32mg:\\My Drive\\__Modern Data Stack\\Github\\B2B-Company\\venv\\Lib\\site-packages\\polars\\io\\csv\\functions.py:364\u001b[0m, in \u001b[0;36mread_csv\u001b[1;34m(source, has_header, columns, new_columns, separator, comment_char, quote_char, skip_rows, dtypes, schema, null_values, missing_utf8_is_empty_string, ignore_errors, try_parse_dates, n_threads, infer_schema_length, batch_size, n_rows, encoding, low_memory, rechunk, use_pyarrow, storage_options, skip_rows_after_header, row_count_name, row_count_offset, sample_size, eol_char, raise_if_empty, truncate_ragged_lines)\u001b[0m\n\u001b[0;32m    352\u001b[0m         dtypes \u001b[39m=\u001b[39m {\n\u001b[0;32m    353\u001b[0m             new_to_current\u001b[39m.\u001b[39mget(column_name, column_name): column_dtype\n\u001b[0;32m    354\u001b[0m             \u001b[39mfor\u001b[39;00m column_name, column_dtype \u001b[39min\u001b[39;00m dtypes\u001b[39m.\u001b[39mitems()\n\u001b[0;32m    355\u001b[0m         }\n\u001b[0;32m    357\u001b[0m \u001b[39mwith\u001b[39;00m _prepare_file_arg(\n\u001b[0;32m    358\u001b[0m     source,\n\u001b[0;32m    359\u001b[0m     encoding\u001b[39m=\u001b[39mencoding,\n\u001b[1;32m   (...)\u001b[0m\n\u001b[0;32m    362\u001b[0m     \u001b[39m*\u001b[39m\u001b[39m*\u001b[39mstorage_options,\n\u001b[0;32m    363\u001b[0m ) \u001b[39mas\u001b[39;00m data:\n\u001b[1;32m--> 364\u001b[0m     df \u001b[39m=\u001b[39m pl\u001b[39m.\u001b[39;49mDataFrame\u001b[39m.\u001b[39;49m_read_csv(\n\u001b[0;32m    365\u001b[0m         data,\n\u001b[0;32m    366\u001b[0m         has_header\u001b[39m=\u001b[39;49mhas_header,\n\u001b[0;32m    367\u001b[0m         columns\u001b[39m=\u001b[39;49mcolumns \u001b[39mif\u001b[39;49;00m columns \u001b[39melse\u001b[39;49;00m projection,\n\u001b[0;32m    368\u001b[0m         separator\u001b[39m=\u001b[39;49mseparator,\n\u001b[0;32m    369\u001b[0m         comment_char\u001b[39m=\u001b[39;49mcomment_char,\n\u001b[0;32m    370\u001b[0m         quote_char\u001b[39m=\u001b[39;49mquote_char,\n\u001b[0;32m    371\u001b[0m         skip_rows\u001b[39m=\u001b[39;49mskip_rows,\n\u001b[0;32m    372\u001b[0m         dtypes\u001b[39m=\u001b[39;49mdtypes,\n\u001b[0;32m    373\u001b[0m         schema\u001b[39m=\u001b[39;49mschema,\n\u001b[0;32m    374\u001b[0m         null_values\u001b[39m=\u001b[39;49mnull_values,\n\u001b[0;32m    375\u001b[0m         missing_utf8_is_empty_string\u001b[39m=\u001b[39;49mmissing_utf8_is_empty_string,\n\u001b[0;32m    376\u001b[0m         ignore_errors\u001b[39m=\u001b[39;49mignore_errors,\n\u001b[0;32m    377\u001b[0m         try_parse_dates\u001b[39m=\u001b[39;49mtry_parse_dates,\n\u001b[0;32m    378\u001b[0m         n_threads\u001b[39m=\u001b[39;49mn_threads,\n\u001b[0;32m    379\u001b[0m         infer_schema_length\u001b[39m=\u001b[39;49minfer_schema_length,\n\u001b[0;32m    380\u001b[0m         batch_size\u001b[39m=\u001b[39;49mbatch_size,\n\u001b[0;32m    381\u001b[0m         n_rows\u001b[39m=\u001b[39;49mn_rows,\n\u001b[0;32m    382\u001b[0m         encoding\u001b[39m=\u001b[39;49mencoding \u001b[39mif\u001b[39;49;00m encoding \u001b[39m==\u001b[39;49m \u001b[39m\"\u001b[39;49m\u001b[39mutf8-lossy\u001b[39;49m\u001b[39m\"\u001b[39;49m \u001b[39melse\u001b[39;49;00m \u001b[39m\"\u001b[39;49m\u001b[39mutf8\u001b[39;49m\u001b[39m\"\u001b[39;49m,\n\u001b[0;32m    383\u001b[0m         low_memory\u001b[39m=\u001b[39;49mlow_memory,\n\u001b[0;32m    384\u001b[0m         rechunk\u001b[39m=\u001b[39;49mrechunk,\n\u001b[0;32m    385\u001b[0m         skip_rows_after_header\u001b[39m=\u001b[39;49mskip_rows_after_header,\n\u001b[0;32m    386\u001b[0m         row_count_name\u001b[39m=\u001b[39;49mrow_count_name,\n\u001b[0;32m    387\u001b[0m         row_count_offset\u001b[39m=\u001b[39;49mrow_count_offset,\n\u001b[0;32m    388\u001b[0m         sample_size\u001b[39m=\u001b[39;49msample_size,\n\u001b[0;32m    389\u001b[0m         eol_char\u001b[39m=\u001b[39;49meol_char,\n\u001b[0;32m    390\u001b[0m         raise_if_empty\u001b[39m=\u001b[39;49mraise_if_empty,\n\u001b[0;32m    391\u001b[0m         truncate_ragged_lines\u001b[39m=\u001b[39;49mtruncate_ragged_lines,\n\u001b[0;32m    392\u001b[0m     )\n\u001b[0;32m    394\u001b[0m \u001b[39mif\u001b[39;00m new_columns:\n\u001b[0;32m    395\u001b[0m     \u001b[39mreturn\u001b[39;00m _update_columns(df, new_columns)\n",
            "File \u001b[1;32mg:\\My Drive\\__Modern Data Stack\\Github\\B2B-Company\\venv\\Lib\\site-packages\\polars\\dataframe\\frame.py:766\u001b[0m, in \u001b[0;36mDataFrame._read_csv\u001b[1;34m(cls, source, has_header, columns, separator, comment_char, quote_char, skip_rows, dtypes, schema, null_values, missing_utf8_is_empty_string, ignore_errors, try_parse_dates, n_threads, infer_schema_length, batch_size, n_rows, encoding, low_memory, rechunk, skip_rows_after_header, row_count_name, row_count_offset, sample_size, eol_char, raise_if_empty, truncate_ragged_lines)\u001b[0m\n\u001b[0;32m    759\u001b[0m         \u001b[39mraise\u001b[39;00m \u001b[39mValueError\u001b[39;00m(\n\u001b[0;32m    760\u001b[0m             \u001b[39m\"\u001b[39m\u001b[39mcannot use glob patterns and integer based projection as `columns` argument\u001b[39m\u001b[39m\"\u001b[39m\n\u001b[0;32m    761\u001b[0m             \u001b[39m\"\u001b[39m\u001b[39m\\n\u001b[39;00m\u001b[39m\\n\u001b[39;00m\u001b[39mUse columns: List[str]\u001b[39m\u001b[39m\"\u001b[39m\n\u001b[0;32m    762\u001b[0m         )\n\u001b[0;32m    764\u001b[0m projection, columns \u001b[39m=\u001b[39m handle_projection_columns(columns)\n\u001b[1;32m--> 766\u001b[0m \u001b[39mself\u001b[39m\u001b[39m.\u001b[39m_df \u001b[39m=\u001b[39m PyDataFrame\u001b[39m.\u001b[39;49mread_csv(\n\u001b[0;32m    767\u001b[0m     source,\n\u001b[0;32m    768\u001b[0m     infer_schema_length,\n\u001b[0;32m    769\u001b[0m     batch_size,\n\u001b[0;32m    770\u001b[0m     has_header,\n\u001b[0;32m    771\u001b[0m     ignore_errors,\n\u001b[0;32m    772\u001b[0m     n_rows,\n\u001b[0;32m    773\u001b[0m     skip_rows,\n\u001b[0;32m    774\u001b[0m     projection,\n\u001b[0;32m    775\u001b[0m     separator,\n\u001b[0;32m    776\u001b[0m     rechunk,\n\u001b[0;32m    777\u001b[0m     columns,\n\u001b[0;32m    778\u001b[0m     encoding,\n\u001b[0;32m    779\u001b[0m     n_threads,\n\u001b[0;32m    780\u001b[0m     path,\n\u001b[0;32m    781\u001b[0m     dtype_list,\n\u001b[0;32m    782\u001b[0m     dtype_slice,\n\u001b[0;32m    783\u001b[0m     low_memory,\n\u001b[0;32m    784\u001b[0m     comment_char,\n\u001b[0;32m    785\u001b[0m     quote_char,\n\u001b[0;32m    786\u001b[0m     processed_null_values,\n\u001b[0;32m    787\u001b[0m     missing_utf8_is_empty_string,\n\u001b[0;32m    788\u001b[0m     try_parse_dates,\n\u001b[0;32m    789\u001b[0m     skip_rows_after_header,\n\u001b[0;32m    790\u001b[0m     _prepare_row_count_args(row_count_name, row_count_offset),\n\u001b[0;32m    791\u001b[0m     sample_size\u001b[39m=\u001b[39;49msample_size,\n\u001b[0;32m    792\u001b[0m     eol_char\u001b[39m=\u001b[39;49meol_char,\n\u001b[0;32m    793\u001b[0m     raise_if_empty\u001b[39m=\u001b[39;49mraise_if_empty,\n\u001b[0;32m    794\u001b[0m     truncate_ragged_lines\u001b[39m=\u001b[39;49mtruncate_ragged_lines,\n\u001b[0;32m    795\u001b[0m     schema\u001b[39m=\u001b[39;49mschema,\n\u001b[0;32m    796\u001b[0m )\n\u001b[0;32m    797\u001b[0m \u001b[39mreturn\u001b[39;00m \u001b[39mself\u001b[39m\n",
            "\u001b[1;31mFileNotFoundError\u001b[0m: No such file or directory: ..data/obt_sales.csv"
          ]
        }
      ],
      "source": [
        "##Polars\n",
        "##DataFrame: df_obt_sales\n",
        "\n",
        "#today = datetime.date.today()\n",
        "\n",
        "def dataload_obt_sales(df):\n",
        "    df = pl.read_csv('..data/obt_sales.csv')\n",
        "    df = df.lazy()\n",
        "    return df\n",
        "\n",
        "df_obt_sales = (\n",
        "    pl.DataFrame()\n",
        "    .pipe(dataload_obt_sales)\n",
        "    #.pipe(filter_data)\n",
        "    .collect()\n",
        "    #.head(3)\n",
        ")\n",
        "\n",
        "display(type(df_obt_sales))\n",
        "print(df_obt_sales)"
      ]
    },
    {
      "cell_type": "code",
      "execution_count": 4,
      "id": "6105eab7",
      "metadata": {
        "ExecuteTime": {
          "end_time": "2023-09-02T09:21:13.903806+00:00",
          "start_time": "2023-09-02T09:21:13.743272+00:00"
        },
        "jupyter": {
          "outputs_hidden": true
        },
        "noteable": {
          "output_collection_id": "3f0d1f57-e1c7-40a0-a73a-1c903cc06f65"
        }
      },
      "outputs": [],
      "source": [
        "##Polars\n",
        "##DataFrame: df_customer\n",
        "\n",
        "#today = datetime.date.today()\n",
        "\n",
        "def dataload_customer(df):\n",
        "    df = pl.read_csv('..data/customer.csv')\n",
        "    df = df.lazy()\n",
        "    return df\n",
        "\n",
        "df_customer = (\n",
        "    pl.DataFrame()\n",
        "    .pipe(dataload_customer)\n",
        "    #.pipe(filter_data)\n",
        "    .collect()\n",
        "    #.head(3)\n",
        ")\n",
        "\n",
        "display(type(df_customer))\n",
        "print(df_customer)\n"
      ]
    },
    {
      "cell_type": "code",
      "execution_count": null,
      "id": "405a2a3f-64bc-47fb-a2d7-bbd18f3a1077",
      "metadata": {
        "ExecuteTime": {
          "end_time": "2023-09-02T10:08:06.251801+00:00",
          "start_time": "2023-09-02T10:08:06.094503+00:00"
        },
        "datalink": {
          "03e01ee1-0ed3-4757-a5ad-db6500db5814": {
            "applied_filters": [],
            "dataframe_info": {
              "default_index_used": true,
              "orig_num_cols": 4,
              "orig_num_rows": 14,
              "orig_size_bytes": 560,
              "truncated_num_cols": 4,
              "truncated_num_rows": 14,
              "truncated_size_bytes": 560,
              "truncated_string_columns": []
            },
            "display_id": "03e01ee1-0ed3-4757-a5ad-db6500db5814",
            "dx_settings": {
              "ALLOW_NOTEABLE_ATTRS": true,
              "COLUMN_SAMPLING_METHOD": "outer",
              "DB_LOCATION": ":memory:",
              "DEV_MODE": false,
              "DISPLAY_MAX_COLUMNS": 100,
              "DISPLAY_MAX_ROWS": 50000,
              "DISPLAY_MODE": "simple",
              "ENABLE_ASSIGNMENT": true,
              "ENABLE_DATALINK": true,
              "FLATTEN_COLUMN_VALUES": true,
              "FLATTEN_INDEX_VALUES": false,
              "GENERATE_DEX_METADATA": false,
              "HTML_TABLE_SCHEMA": false,
              "LOG_LEVEL": 30,
              "MAX_RENDER_SIZE_BYTES": 104857600,
              "MAX_STRING_LENGTH": 250,
              "NUM_PAST_SAMPLES_TRACKED": 3,
              "RANDOM_STATE": 12648430,
              "RESET_INDEX_VALUES": false,
              "ROW_SAMPLING_METHOD": "random",
              "SAMPLING_FACTOR": 0.1,
              "SAMPLING_METHOD": "random",
              "STRINGIFY_COLUMN_VALUES": true,
              "STRINGIFY_INDEX_VALUES": false
            },
            "sample_history": [],
            "sampling_time": "2023-09-02T09:24:13.944839",
            "user_variable_name": "product_pricing",
            "variable_name": "product_pricing"
          },
          "fc91a30c-b617-4b42-bc8d-b7e6da1cd9f9": {
            "applied_filters": [],
            "dataframe_info": {
              "default_index_used": true,
              "orig_num_cols": 4,
              "orig_num_rows": 14,
              "orig_size_bytes": 560,
              "truncated_num_cols": 4,
              "truncated_num_rows": 14,
              "truncated_size_bytes": 560,
              "truncated_string_columns": []
            },
            "display_id": "fc91a30c-b617-4b42-bc8d-b7e6da1cd9f9",
            "dx_settings": {
              "ALLOW_NOTEABLE_ATTRS": true,
              "COLUMN_SAMPLING_METHOD": "outer",
              "DB_LOCATION": ":memory:",
              "DEV_MODE": false,
              "DISPLAY_MAX_COLUMNS": 100,
              "DISPLAY_MAX_ROWS": 50000,
              "DISPLAY_MODE": "simple",
              "ENABLE_ASSIGNMENT": true,
              "ENABLE_DATALINK": true,
              "FLATTEN_COLUMN_VALUES": true,
              "FLATTEN_INDEX_VALUES": false,
              "GENERATE_DEX_METADATA": false,
              "HTML_TABLE_SCHEMA": false,
              "LOG_LEVEL": 30,
              "MAX_RENDER_SIZE_BYTES": 104857600,
              "MAX_STRING_LENGTH": 250,
              "NUM_PAST_SAMPLES_TRACKED": 3,
              "RANDOM_STATE": 12648430,
              "RESET_INDEX_VALUES": false,
              "ROW_SAMPLING_METHOD": "random",
              "SAMPLING_FACTOR": 0.1,
              "SAMPLING_METHOD": "random",
              "STRINGIFY_COLUMN_VALUES": true,
              "STRINGIFY_INDEX_VALUES": false
            },
            "sample_history": [],
            "sampling_time": "2023-09-02T09:23:55.852328",
            "user_variable_name": "product_pricing",
            "variable_name": "product_pricing"
          }
        },
        "jupyter": {
          "outputs_hidden": true,
          "source_hidden": false
        },
        "noteable": {
          "cell_type": "code",
          "output_collection_id": "a2cd73fc-4e00-49d7-8364-42478ca462eb"
        }
      },
      "outputs": [],
      "source": [
        "##Polars\n",
        "##DataFrame: df_products\n",
        "\n",
        "#today = datetime.date.today()\n",
        "\n",
        "def dataload_products(df):\n",
        "    df = pl.read_csv('..data/products.csv')\n",
        "    df = df.lazy()\n",
        "    return df\n",
        "\n",
        "df_products = (\n",
        "    pl.DataFrame()\n",
        "    .pipe(dataload_products)\n",
        "    #.pipe(filter_data)\n",
        "    .collect()\n",
        "    #.head(3)\n",
        ")\n",
        "\n",
        "display(type(df_products))\n",
        "print(df_products)"
      ]
    },
    {
      "cell_type": "code",
      "execution_count": null,
      "id": "3ca7cbad-b44b-4f29-80e5-0908f91d3540",
      "metadata": {
        "jupyter": {
          "outputs_hidden": false,
          "source_hidden": false
        },
        "noteable": {
          "cell_type": "code"
        }
      },
      "outputs": [],
      "source": [
        "##Polars\n",
        "##DataFrame: df_sales\n",
        "\n",
        "#today = datetime.date.today()\n",
        "\n",
        "def dataload_sales(df):\n",
        "    df = pl.read_csv('..data/sales.csv')\n",
        "    df = df.lazy()\n",
        "    return df\n",
        "\n",
        "df_sales = (\n",
        "    pl.DataFrame()\n",
        "    .pipe(dataload_sales)\n",
        "    #.pipe(filter_data)\n",
        "    .collect()\n",
        "    #.head(3)\n",
        ")\n",
        "\n",
        "display(type(df_sales))\n",
        "print(df_sales)"
      ]
    },
    {
      "cell_type": "code",
      "execution_count": null,
      "id": "67a5c3b3-004c-470d-8227-7066890068e9",
      "metadata": {
        "jupyter": {
          "outputs_hidden": false,
          "source_hidden": false
        },
        "noteable": {
          "cell_type": "code"
        }
      },
      "outputs": [],
      "source": [
        "##Polars\n",
        "##DataFrame: df_salesman\n",
        "\n",
        "#today = datetime.date.today()\n",
        "\n",
        "def dataload_salesman(df):\n",
        "    df = pl.read_csv('..data/salesman.csv')\n",
        "    df = df.lazy()\n",
        "    return df\n",
        "\n",
        "df_salesman = (\n",
        "    pl.DataFrame()\n",
        "    .pipe(dataload_salesman)\n",
        "    #.pipe(filter_data)\n",
        "    .collect()\n",
        "    #.head(3)\n",
        ")\n",
        "\n",
        "display(type(df_salesman))\n",
        "print(df_salesman)"
      ]
    }
  ],
  "metadata": {
    "kernel_info": {
      "name": "python3"
    },
    "kernelspec": {
      "display_name": "Python 3.9",
      "language": "python",
      "name": "python3"
    },
    "language_info": {
      "codemirror_mode": {
        "name": "ipython",
        "version": 3
      },
      "file_extension": ".py",
      "mimetype": "text/x-python",
      "name": "python",
      "nbconvert_exporter": "python",
      "pygments_lexer": "ipython3",
      "version": "3.11.4"
    },
    "orig_nbformat": 4,
    "selected_hardware_size": "small"
  },
  "nbformat": 4,
  "nbformat_minor": 5
}
