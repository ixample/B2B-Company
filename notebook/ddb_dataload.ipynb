{
 "cells": [
  {
   "cell_type": "code",
   "execution_count": null,
   "metadata": {},
   "outputs": [],
   "source": [
    "#%pip install polars --quiet\n",
    "#%pip install duckdb --quiet\n",
    "#%pip install pyarrow --quiet\n",
    "#%pip install pandas --quiet\n",
    "#%pip install polars --quiet\n",
    "#%pip install numpy --quiet"
   ]
  },
  {
   "cell_type": "code",
   "execution_count": null,
   "metadata": {},
   "outputs": [],
   "source": [
    "!pip show polars\n",
    "!pip show duckdb\n",
    "!pip show pyarrow\n",
    "!pip show pandas\n",
    "!pip show polars\n",
    "!pip show numpy"
   ]
  },
  {
   "cell_type": "code",
   "execution_count": 1,
   "metadata": {},
   "outputs": [],
   "source": [
    "import polars as pl\n",
    "import numpy as np\n",
    "import pandas as pd\n",
    "import pyarrow \n",
    "import glob\n",
    "import time\n",
    "import duckdb"
   ]
  },
  {
   "cell_type": "code",
   "execution_count": 2,
   "metadata": {},
   "outputs": [],
   "source": [
    "##DuckDB\n",
    "\n",
    "# Create a connection to a DuckDB database\n",
    "conn = duckdb.connect(database=':memory:')\n",
    "#conn = duckdb.connect('analysis.duckdb')"
   ]
  },
  {
   "cell_type": "markdown",
   "metadata": {},
   "source": [
    "INSERT INTO pricing VALUES\n",
    "    (9001, 2020, 131.1),\n",
    "    (9001, 2021, 134.38),\n",
    "    (9001, 2022, 137.74),\n",
    "    (9001, 2023, 151.77),\n",
    "    (9002, 2020, 90.39),\n",
    "    (9002, 2021, 92.65),\n",
    "    (9002, 2022, 94.97),\n",
    "    (9002, 2023, 104.64),\n",
    "    (9003, 2020, 58.91),\n",
    "    (9003, 2021, 60.38),\n",
    "    (9003, 2022, 61.89),\n",
    "    (9003, 2023, 68.2),\n",
    "    (9004, 2020, 70.45),\n",
    "    (9004, 2021, 72.21),\n",
    "    (9004, 2022, 74.02),\n",
    "    (9004, 2023, 81.55),\n",
    "    (9005, 2020, 25.61),\n",
    "    (9005, 2021, 26.25),\n",
    "    (9005, 2022, 26.91),\n",
    "    (9005, 2023, 29.64),\n",
    "    (9006, 2020, 8.82),\n",
    "    (9006, 2021, 9.04),\n",
    "    (9006, 2022, 9.27),\n",
    "    (9006, 2023, 10.21),\n",
    "    (9007, 2020, 101.13),\n",
    "    (9007, 2021, 103.66),\n",
    "    (9007, 2022, 106.25),\n",
    "    (9007, 2023, 117.08),\n",
    "    (9008, 2020, 60.62),\n",
    "    (9008, 2021, 62.14),\n",
    "    (9008, 2022, 63.69),\n",
    "    (9008, 2023, 70.17),\n",
    "    (9009, 2020, 22.12),\n",
    "    (9009, 2021, 22.67),\n",
    "    (9009, 2022, 23.24),\n",
    "    (9009, 2023, 25.61),\n",
    "    (9010, 2020, 55.36),\n",
    "    (9010, 2021, 56.74),\n",
    "    (9010, 2022, 58.16),\n",
    "    (9010, 2023, 64.09),\n",
    "    (9011, 2020, 18.87),\n",
    "    (9011, 2021, 19.34),\n",
    "    (9011, 2022, 19.82),\n",
    "    (9011, 2023, 21.84),\n",
    "    (9012, 2020, 3.29),\n",
    "    (9012, 2021, 3.37),\n",
    "    (9012, 2022, 3.45),\n",
    "    (9012, 2023, 3.8),\n",
    "    (9013, 2020, 423.35),\n",
    "    (9013, 2021, 433.93),\n",
    "    (9013, 2022, 444.78),\n",
    "    (9013, 2023, 490.09),\n",
    "    (9014, 2020, 601.02),\n",
    "    (9014, 2021, 616.05),\n",
    "    (9014, 2022, 631.45),\n",
    "    (9014, 2023, 695.75);"
   ]
  },
  {
   "cell_type": "markdown",
   "metadata": {},
   "source": []
  },
  {
   "cell_type": "code",
   "execution_count": 5,
   "metadata": {},
   "outputs": [
    {
     "name": "stdout",
     "output_type": "stream",
     "text": [
      "shape: (9_994, 5)\n",
      "┌─────────────┬───────────────────┬──────────┬───────────┬──────────────────────┐\n",
      "│ customer_id ┆ customer          ┆ industry ┆ segment   ┆ filename             │\n",
      "│ ---         ┆ ---               ┆ ---      ┆ ---       ┆ ---                  │\n",
      "│ i64         ┆ str               ┆ str      ┆ str       ┆ str                  │\n",
      "╞═════════════╪═══════════════════╪══════════╪═══════════╪══════════════════════╡\n",
      "│ 1017        ┆ Chevron           ┆ Energy   ┆ SMB       ┆ ../data/customer.csv │\n",
      "│ 1056        ┆ Phillips 66       ┆ Energy   ┆ Strategic ┆ ../data/customer.csv │\n",
      "│ 1031        ┆ Royal Dutch Shell ┆ Energy   ┆ SMB       ┆ ../data/customer.csv │\n",
      "│ 1065        ┆ BNP Paribas       ┆ Finance  ┆ SMB       ┆ ../data/customer.csv │\n",
      "│ …           ┆ …                 ┆ …        ┆ …         ┆ …                    │\n",
      "│ null        ┆ null              ┆ null     ┆ null      ┆ ../data/customer.csv │\n",
      "│ null        ┆ null              ┆ null     ┆ null      ┆ ../data/customer.csv │\n",
      "│ null        ┆ null              ┆ null     ┆ null      ┆ ../data/customer.csv │\n",
      "│ null        ┆ null              ┆ null     ┆ null      ┆ ../data/customer.csv │\n",
      "└─────────────┴───────────────────┴──────────┴───────────┴──────────────────────┘\n"
     ]
    }
   ],
   "source": [
    "customer_tbl_df = conn.execute(\"\"\"\n",
    "\tSELECT * FROM read_csv_auto('../data/customer.csv', header=True, filename=True)                   \n",
    "\"\"\").pl().lazy()\n",
    "\n",
    "# Create a table tblCustomer\n",
    "tbl = \"\"\"SELECT * FROM customer_tbl_df\"\"\"\n",
    "conn.execute('CREATE OR REPLACE TABLE tblCustomer AS ({})'.format(tbl))\n",
    "\n",
    "qv = conn.execute(\"\"\"SELECT * FROM tblCustomer\"\"\").pl()#.lazy()\n",
    "\n",
    "query = \"\"\"\n",
    "    SUMMARIZE tblCustomer\n",
    "\"\"\"\n",
    "results = conn.execute(query).pl\n",
    "#print(results)\n",
    "#print(type(qv))\n",
    "print(qv)"
   ]
  },
  {
   "cell_type": "code",
   "execution_count": null,
   "metadata": {},
   "outputs": [],
   "source": [
    "## Query Join Simple\n",
    "\n",
    "#qv = conn.execute(\"\"\"\n",
    "#    SELECT h.\"Sales Order: Order no.\", u.\"External order ID\"\n",
    "#        FROM vwHapai h\n",
    "#        INNER JOIN vwUbw u\n",
    "#            ON h.\"Sales Order: Order no.\" = u.\"External order ID\"\n",
    "#    \"\"\"\n",
    "#).pl()\n",
    "\n",
    "#display(type(qv))\n",
    "#print(qv)"
   ]
  },
  {
   "cell_type": "code",
   "execution_count": null,
   "metadata": {},
   "outputs": [],
   "source": [
    "#conn.close()"
   ]
  }
 ],
 "metadata": {
  "kernelspec": {
   "display_name": "venv",
   "language": "python",
   "name": "python3"
  },
  "language_info": {
   "codemirror_mode": {
    "name": "ipython",
    "version": 3
   },
   "file_extension": ".py",
   "mimetype": "text/x-python",
   "name": "python",
   "nbconvert_exporter": "python",
   "pygments_lexer": "ipython3",
   "version": "3.11.4"
  },
  "orig_nbformat": 4
 },
 "nbformat": 4,
 "nbformat_minor": 2
}
