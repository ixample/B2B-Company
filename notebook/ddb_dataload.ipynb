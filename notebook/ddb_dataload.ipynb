{
 "cells": [
  {
   "cell_type": "code",
   "execution_count": null,
   "metadata": {},
   "outputs": [],
   "source": [
    "!pip install polars --quiet\n",
    "!pip install duckdb --quiet\n",
    "!pip install pyarrow --quiet\n",
    "!pip install pandas --quiet\n",
    "!pip install polars --quiet\n",
    "!pip install numpy --quiet"
   ]
  },
  {
   "cell_type": "code",
   "execution_count": 5,
   "metadata": {},
   "outputs": [],
   "source": [
    "import polars as pl\n",
    "from datetime import datetime, timedelta\n",
    "import numpy as np\n",
    "import pandas as pd\n",
    "import pyarrow as pa\n",
    "import glob\n",
    "import time\n",
    "import duckdb"
   ]
  },
  {
   "cell_type": "code",
   "execution_count": 2,
   "metadata": {},
   "outputs": [],
   "source": [
    "##DuckDB\n",
    "\n",
    "# Create a connection to a DuckDB database\n",
    "conn = duckdb.connect(database=':memory:')\n",
    "#conn = duckdb.connect('analysis.duckdb')"
   ]
  },
  {
   "cell_type": "code",
   "execution_count": 8,
   "metadata": {},
   "outputs": [
    {
     "name": "stdout",
     "output_type": "stream",
     "text": [
      "shape: (9_994, 5)\n",
      "┌─────────────┬───────────────────┬──────────┬───────────┬──────────────────────┐\n",
      "│ customer_id ┆ customer          ┆ industry ┆ segment   ┆ filename             │\n",
      "│ ---         ┆ ---               ┆ ---      ┆ ---       ┆ ---                  │\n",
      "│ i64         ┆ str               ┆ str      ┆ str       ┆ str                  │\n",
      "╞═════════════╪═══════════════════╪══════════╪═══════════╪══════════════════════╡\n",
      "│ 1017        ┆ Chevron           ┆ Energy   ┆ SMB       ┆ ../data/customer.csv │\n",
      "│ 1056        ┆ Phillips 66       ┆ Energy   ┆ Strategic ┆ ../data/customer.csv │\n",
      "│ 1031        ┆ Royal Dutch Shell ┆ Energy   ┆ SMB       ┆ ../data/customer.csv │\n",
      "│ 1065        ┆ BNP Paribas       ┆ Finance  ┆ SMB       ┆ ../data/customer.csv │\n",
      "│ …           ┆ …                 ┆ …        ┆ …         ┆ …                    │\n",
      "│ null        ┆ null              ┆ null     ┆ null      ┆ ../data/customer.csv │\n",
      "│ null        ┆ null              ┆ null     ┆ null      ┆ ../data/customer.csv │\n",
      "│ null        ┆ null              ┆ null     ┆ null      ┆ ../data/customer.csv │\n",
      "│ null        ┆ null              ┆ null     ┆ null      ┆ ../data/customer.csv │\n",
      "└─────────────┴───────────────────┴──────────┴───────────┴──────────────────────┘\n"
     ]
    }
   ],
   "source": [
    "customer_tbl_df = conn.execute(\"\"\"\n",
    "\tSELECT * FROM read_csv_auto('../data/customer.csv', header=True, filename=True)                   \n",
    "\"\"\").pl().lazy()\n",
    "\n",
    "# Create a table tblCustomer\n",
    "tbl = \"\"\"SELECT * FROM customer_tbl_df\"\"\"\n",
    "conn.execute('CREATE OR REPLACE TABLE tblCustomer AS ({})'.format(tbl))\n",
    "\n",
    "qv = conn.execute(\"\"\"SELECT * FROM tblCustomer\"\"\").pl()#.lazy()\n",
    "\n",
    "query = \"\"\"\n",
    "    SUMMARIZE tblCustomer\n",
    "\"\"\"\n",
    "results = conn.execute(query).pl\n",
    "#print(results)\n",
    "#print(type(qv))\n",
    "print(qv)"
   ]
  },
  {
   "cell_type": "code",
   "execution_count": null,
   "metadata": {},
   "outputs": [],
   "source": [
    "## Query Join Simple\n",
    "\n",
    "#qv = conn.execute(\"\"\"\n",
    "#    SELECT h.\"Sales Order: Order no.\", u.\"External order ID\"\n",
    "#        FROM vwHapai h\n",
    "#        INNER JOIN vwUbw u\n",
    "#            ON h.\"Sales Order: Order no.\" = u.\"External order ID\"\n",
    "#    \"\"\"\n",
    "#).pl()\n",
    "\n",
    "#display(type(qv))\n",
    "#print(qv)"
   ]
  },
  {
   "cell_type": "code",
   "execution_count": null,
   "metadata": {},
   "outputs": [],
   "source": [
    "#conn.close()"
   ]
  }
 ],
 "metadata": {
  "kernelspec": {
   "display_name": "venv",
   "language": "python",
   "name": "python3"
  },
  "language_info": {
   "codemirror_mode": {
    "name": "ipython",
    "version": 3
   },
   "file_extension": ".py",
   "mimetype": "text/x-python",
   "name": "python",
   "nbconvert_exporter": "python",
   "pygments_lexer": "ipython3",
   "version": "3.11.4"
  },
  "orig_nbformat": 4
 },
 "nbformat": 4,
 "nbformat_minor": 2
}
