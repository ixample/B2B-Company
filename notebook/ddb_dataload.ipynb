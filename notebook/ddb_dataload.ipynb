{
 "cells": [
  {
   "cell_type": "code",
   "execution_count": 2,
   "metadata": {},
   "outputs": [
    {
     "name": "stderr",
     "output_type": "stream",
     "text": [
      "\n",
      "[notice] A new release of pip is available: 23.1.2 -> 23.2.1\n",
      "[notice] To update, run: C:\\Users\\Euan\\AppData\\Local\\Programs\\Python\\Python311\\python.exe -m pip install --upgrade pip\n",
      "\n",
      "[notice] A new release of pip is available: 23.1.2 -> 23.2.1\n",
      "[notice] To update, run: C:\\Users\\Euan\\AppData\\Local\\Programs\\Python\\Python311\\python.exe -m pip install --upgrade pip\n",
      "\n",
      "[notice] A new release of pip is available: 23.1.2 -> 23.2.1\n",
      "[notice] To update, run: C:\\Users\\Euan\\AppData\\Local\\Programs\\Python\\Python311\\python.exe -m pip install --upgrade pip\n",
      "\n",
      "[notice] A new release of pip is available: 23.1.2 -> 23.2.1\n",
      "[notice] To update, run: C:\\Users\\Euan\\AppData\\Local\\Programs\\Python\\Python311\\python.exe -m pip install --upgrade pip\n",
      "\n",
      "[notice] A new release of pip is available: 23.1.2 -> 23.2.1\n",
      "[notice] To update, run: C:\\Users\\Euan\\AppData\\Local\\Programs\\Python\\Python311\\python.exe -m pip install --upgrade pip\n",
      "\n",
      "[notice] A new release of pip is available: 23.1.2 -> 23.2.1\n",
      "[notice] To update, run: C:\\Users\\Euan\\AppData\\Local\\Programs\\Python\\Python311\\python.exe -m pip install --upgrade pip\n"
     ]
    }
   ],
   "source": [
    "!pip install polars --quiet\n",
    "!pip install duckdb --quiet\n",
    "!pip install pyarrow --quiet\n",
    "!pip install pandas --quiet\n",
    "!pip install polars --quiet\n",
    "!pip install numpy --quiet"
   ]
  },
  {
   "cell_type": "code",
   "execution_count": 9,
   "metadata": {},
   "outputs": [
    {
     "ename": "ModuleNotFoundError",
     "evalue": "No module named 'polars'",
     "output_type": "error",
     "traceback": [
      "\u001b[1;31m---------------------------------------------------------------------------\u001b[0m",
      "\u001b[1;31mModuleNotFoundError\u001b[0m                       Traceback (most recent call last)",
      "Cell \u001b[1;32mIn[9], line 1\u001b[0m\n\u001b[1;32m----> 1\u001b[0m \u001b[39mimport\u001b[39;00m \u001b[39mpolars\u001b[39;00m \u001b[39mas\u001b[39;00m \u001b[39mpl\u001b[39;00m\n\u001b[0;32m      2\u001b[0m \u001b[39mimport\u001b[39;00m \u001b[39mnumpy\u001b[39;00m \u001b[39mas\u001b[39;00m \u001b[39mnp\u001b[39;00m\n\u001b[0;32m      3\u001b[0m \u001b[39mimport\u001b[39;00m \u001b[39mpandas\u001b[39;00m \u001b[39mas\u001b[39;00m \u001b[39mpd\u001b[39;00m\n",
      "\u001b[1;31mModuleNotFoundError\u001b[0m: No module named 'polars'"
     ]
    }
   ],
   "source": [
    "import polars as pl\n",
    "import numpy as np\n",
    "import pandas as pd\n",
    "import pyarrow \n",
    "import glob\n",
    "import time\n",
    "import duckdb"
   ]
  },
  {
   "cell_type": "code",
   "execution_count": 7,
   "metadata": {},
   "outputs": [
    {
     "ename": "NameError",
     "evalue": "name 'duckdb' is not defined",
     "output_type": "error",
     "traceback": [
      "\u001b[1;31m---------------------------------------------------------------------------\u001b[0m",
      "\u001b[1;31mNameError\u001b[0m                                 Traceback (most recent call last)",
      "Cell \u001b[1;32mIn[7], line 4\u001b[0m\n\u001b[0;32m      1\u001b[0m \u001b[39m##DuckDB\u001b[39;00m\n\u001b[0;32m      2\u001b[0m \n\u001b[0;32m      3\u001b[0m \u001b[39m# Create a connection to a DuckDB database\u001b[39;00m\n\u001b[1;32m----> 4\u001b[0m conn \u001b[39m=\u001b[39m duckdb\u001b[39m.\u001b[39mconnect(database\u001b[39m=\u001b[39m\u001b[39m'\u001b[39m\u001b[39m:memory:\u001b[39m\u001b[39m'\u001b[39m)\n\u001b[0;32m      5\u001b[0m \u001b[39m#conn = duckdb.connect('analysis.duckdb')\u001b[39;00m\n",
      "\u001b[1;31mNameError\u001b[0m: name 'duckdb' is not defined"
     ]
    }
   ],
   "source": [
    "##DuckDB\n",
    "\n",
    "# Create a connection to a DuckDB database\n",
    "conn = duckdb.connect(database=':memory:')\n",
    "#conn = duckdb.connect('analysis.duckdb')"
   ]
  },
  {
   "cell_type": "code",
   "execution_count": 8,
   "metadata": {},
   "outputs": [
    {
     "name": "stdout",
     "output_type": "stream",
     "text": [
      "shape: (9_994, 5)\n",
      "┌─────────────┬───────────────────┬──────────┬───────────┬──────────────────────┐\n",
      "│ customer_id ┆ customer          ┆ industry ┆ segment   ┆ filename             │\n",
      "│ ---         ┆ ---               ┆ ---      ┆ ---       ┆ ---                  │\n",
      "│ i64         ┆ str               ┆ str      ┆ str       ┆ str                  │\n",
      "╞═════════════╪═══════════════════╪══════════╪═══════════╪══════════════════════╡\n",
      "│ 1017        ┆ Chevron           ┆ Energy   ┆ SMB       ┆ ../data/customer.csv │\n",
      "│ 1056        ┆ Phillips 66       ┆ Energy   ┆ Strategic ┆ ../data/customer.csv │\n",
      "│ 1031        ┆ Royal Dutch Shell ┆ Energy   ┆ SMB       ┆ ../data/customer.csv │\n",
      "│ 1065        ┆ BNP Paribas       ┆ Finance  ┆ SMB       ┆ ../data/customer.csv │\n",
      "│ …           ┆ …                 ┆ …        ┆ …         ┆ …                    │\n",
      "│ null        ┆ null              ┆ null     ┆ null      ┆ ../data/customer.csv │\n",
      "│ null        ┆ null              ┆ null     ┆ null      ┆ ../data/customer.csv │\n",
      "│ null        ┆ null              ┆ null     ┆ null      ┆ ../data/customer.csv │\n",
      "│ null        ┆ null              ┆ null     ┆ null      ┆ ../data/customer.csv │\n",
      "└─────────────┴───────────────────┴──────────┴───────────┴──────────────────────┘\n"
     ]
    }
   ],
   "source": [
    "customer_tbl_df = conn.execute(\"\"\"\n",
    "\tSELECT * FROM read_csv_auto('../data/customer.csv', header=True, filename=True)                   \n",
    "\"\"\").pl().lazy()\n",
    "\n",
    "# Create a table tblCustomer\n",
    "tbl = \"\"\"SELECT * FROM customer_tbl_df\"\"\"\n",
    "conn.execute('CREATE OR REPLACE TABLE tblCustomer AS ({})'.format(tbl))\n",
    "\n",
    "qv = conn.execute(\"\"\"SELECT * FROM tblCustomer\"\"\").pl()#.lazy()\n",
    "\n",
    "query = \"\"\"\n",
    "    SUMMARIZE tblCustomer\n",
    "\"\"\"\n",
    "results = conn.execute(query).pl\n",
    "#print(results)\n",
    "#print(type(qv))\n",
    "print(qv)"
   ]
  },
  {
   "cell_type": "code",
   "execution_count": null,
   "metadata": {},
   "outputs": [],
   "source": [
    "## Query Join Simple\n",
    "\n",
    "#qv = conn.execute(\"\"\"\n",
    "#    SELECT h.\"Sales Order: Order no.\", u.\"External order ID\"\n",
    "#        FROM vwHapai h\n",
    "#        INNER JOIN vwUbw u\n",
    "#            ON h.\"Sales Order: Order no.\" = u.\"External order ID\"\n",
    "#    \"\"\"\n",
    "#).pl()\n",
    "\n",
    "#display(type(qv))\n",
    "#print(qv)"
   ]
  },
  {
   "cell_type": "code",
   "execution_count": null,
   "metadata": {},
   "outputs": [],
   "source": [
    "#conn.close()"
   ]
  }
 ],
 "metadata": {
  "kernelspec": {
   "display_name": "venv",
   "language": "python",
   "name": "python3"
  },
  "language_info": {
   "codemirror_mode": {
    "name": "ipython",
    "version": 3
   },
   "file_extension": ".py",
   "mimetype": "text/x-python",
   "name": "python",
   "nbconvert_exporter": "python",
   "pygments_lexer": "ipython3",
   "version": "3.11.4"
  },
  "orig_nbformat": 4
 },
 "nbformat": 4,
 "nbformat_minor": 2
}
