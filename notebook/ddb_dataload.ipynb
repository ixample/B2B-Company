{
  "cells": [
    {
      "cell_type": "code",
      "execution_count": null,
      "id": "ab54c505-157f-481b-be1c-ef4627045ab8",
      "metadata": {
        "ExecuteTime": {
          "end_time": "2023-09-02T21:39:30.279869+00:00",
          "start_time": "2023-09-02T21:39:15.498216+00:00"
        },
        "jupyter": {
          "outputs_hidden": false,
          "source_hidden": false
        },
        "noteable": {
          "cell_type": "code",
          "output_collection_id": "7ef9ae68-335a-4c99-99e6-c3afc1d53af1"
        }
      },
      "outputs": [],
      "source": [
        "%pip install polars --quiet\n",
        "%pip install duckdb --quiet\n",
        "%pip install pyarrow --quiet\n",
        "%pip install pandas --quiet\n",
        "%pip install polars --quiet\n",
        "%pip install numpy --quiet"
      ]
    },
    {
      "cell_type": "code",
      "execution_count": null,
      "id": "941cc7b4",
      "metadata": {},
      "outputs": [],
      "source": [
        "import os\n",
        "\n",
        "def reset_kernel():\n",
        "  os.system(\"jupyter notebook --reset-kernel\")\n",
        "\n",
        "reset_kernel()\n",
        "#print(os.getcwd())"
      ]
    },
    {
      "cell_type": "code",
      "execution_count": null,
      "id": "1a700915",
      "metadata": {
        "ExecuteTime": {
          "end_time": "2023-09-02T21:39:57.068018+00:00",
          "start_time": "2023-09-02T21:39:56.881197+00:00"
        },
        "jupyter": {
          "source_hidden": false
        },
        "noteable": {
          "output_collection_id": "4b9d6211-d2df-402a-9936-1c8fb679f64e"
        }
      },
      "outputs": [],
      "source": [
        "import polars as pl\n",
        "from datetime import datetime, timedelta\n",
        "import numpy as np\n",
        "import pandas as pd\n",
        "import pyarrow as pa\n",
        "import glob\n",
        "import time\n",
        "import duckdb"
      ]
    },
    {
      "cell_type": "code",
      "execution_count": null,
      "id": "d8c369b8",
      "metadata": {
        "ExecuteTime": {
          "end_time": "2023-09-02T21:39:59.512749+00:00",
          "start_time": "2023-09-02T21:39:59.355083+00:00"
        },
        "noteable": {
          "output_collection_id": "5a5b5cc1-4c7a-4e60-a52d-25de34e0ac8c"
        }
      },
      "outputs": [],
      "source": [
        "##DuckDB\n",
        "\n",
        "##Create a connection to a DuckDB database\n",
        "#conn = duckdb.connect('analysis.duckdb')\n",
        "\n",
        "conn = duckdb.connect(database=':memory:') \n"
      ]
    },
    {
      "cell_type": "code",
      "execution_count": null,
      "id": "6407e212-d844-4496-8c6f-85f2d0355dbc",
      "metadata": {
        "ExecuteTime": {
          "end_time": "2023-09-02T21:40:06.605127+00:00",
          "start_time": "2023-09-02T21:40:06.445138+00:00"
        },
        "datalink": {
          "8884ee67-9235-4bd3-894c-058e4d41a3cf": {
            "applied_filters": [],
            "dataframe_info": {
              "default_index_used": true,
              "orig_num_cols": 1,
              "orig_num_rows": 1,
              "orig_size_bytes": 16,
              "truncated_num_cols": 1,
              "truncated_num_rows": 1,
              "truncated_size_bytes": 16,
              "truncated_string_columns": []
            },
            "display_id": "8884ee67-9235-4bd3-894c-058e4d41a3cf",
            "dx_settings": {
              "ALLOW_NOTEABLE_ATTRS": true,
              "COLUMN_SAMPLING_METHOD": "outer",
              "DB_LOCATION": ":memory:",
              "DEV_MODE": false,
              "DISPLAY_MAX_COLUMNS": 100,
              "DISPLAY_MAX_ROWS": 50000,
              "DISPLAY_MODE": "simple",
              "ENABLE_ASSIGNMENT": true,
              "ENABLE_DATALINK": true,
              "FLATTEN_COLUMN_VALUES": true,
              "FLATTEN_INDEX_VALUES": false,
              "GENERATE_DEX_METADATA": false,
              "HTML_TABLE_SCHEMA": false,
              "LOG_LEVEL": 30,
              "MAX_RENDER_SIZE_BYTES": 104857600,
              "MAX_STRING_LENGTH": 250,
              "NUM_PAST_SAMPLES_TRACKED": 3,
              "RANDOM_STATE": 12648430,
              "RESET_INDEX_VALUES": false,
              "ROW_SAMPLING_METHOD": "random",
              "SAMPLING_FACTOR": 0.1,
              "SAMPLING_METHOD": "random",
              "STRINGIFY_COLUMN_VALUES": true,
              "STRINGIFY_INDEX_VALUES": false
            },
            "sample_history": [],
            "sampling_time": "2023-09-02T06:07:20.233203",
            "user_variable_name": null,
            "variable_name": "unk_dataframe_70d353b7e8e748faa46f938053626c27"
          }
        },
        "jupyter": {
          "outputs_hidden": true,
          "source_hidden": false
        },
        "noteable": {
          "cell_type": "code",
          "output_collection_id": "4fb67816-cedd-4955-a904-3865d9a421a1"
        }
      },
      "outputs": [],
      "source": [
        "##Product Pricing\n",
        "\n",
        "y_2020 = conn.execute(\"\"\"SELECT \n",
        "{\n",
        "    '9001': 131.1,\n",
        "    '9002': 90.39,\n",
        "    '9003': 58.91,\n",
        "    '9004': 70.45,\n",
        "    '9005': 25.61,\n",
        "    '9006': 8.82,\n",
        "    '9007': 101.13,\n",
        "    '9008': 60.62,\n",
        "    '9009': 22.12,\n",
        "    '9010': 55.36,\n",
        "    '9011': 18.87,\n",
        "    '9012': 3.29,\n",
        "    '9013': 423.35,\n",
        "    '9014': 601.02\n",
        "}\n",
        "\"\"\").pl().lazy()\n",
        "\n",
        "y_2021 = conn.execute(\"\"\"SELECT \n",
        "{\n",
        "    '9001': 134.38,\n",
        "    '9002': 92.65,\n",
        "    '9003': 60.38,\n",
        "    '9004': 72.21,\n",
        "    '9005': 26.25,\n",
        "    '9006': 9.04,\n",
        "    '9007': 103.66,\n",
        "    '9008': 62.14,\n",
        "    '9009': 22.67,\n",
        "    '9010': 56.74,\n",
        "    '9011': 19.34,\n",
        "    '9012': 3.37,\n",
        "    '9013': 433.93,\n",
        "    '9014': 616.05\n",
        "}\n",
        "\"\"\").pl().lazy()\n",
        "\n",
        "y_2022 = conn.execute(\"\"\"SELECT \n",
        "{\n",
        "    '9001': 137.74,\n",
        "    '9002': 94.97,\n",
        "    '9003': 61.89,\n",
        "    '9004': 74.02,\n",
        "    '9005': 26.91,\n",
        "    '9006': 9.27,\n",
        "    '9007': 106.25,\n",
        "    '9008': 63.69,\n",
        "    '9009': 23.24,\n",
        "    '9010': 58.16,\n",
        "    '9011': 19.82,\n",
        "    '9012': 3.45,\n",
        "    '9013': 444.78,\n",
        "    '9014': 631.45\n",
        "}\n",
        "\"\"\").pl().lazy()\n",
        "\n",
        "y_2023 = conn.execute(\"\"\"SELECT \n",
        "{\n",
        "    '9001': 151.77,\n",
        "    '9002': 104.64,\n",
        "    '9003': 68.2,\n",
        "    '9004': 81.55,\n",
        "    '9005': 29.64,\n",
        "    '9006': 10.21,\n",
        "    '9007': 117.08,\n",
        "    '9008': 70.17,\n",
        "    '9009': 25.61,\n",
        "    '9010': 64.09,\n",
        "    '9011': 21.84,\n",
        "    '9012': 3.8,\n",
        "    '9013': 490.09,\n",
        "    '9014': 695.75\n",
        "}\n",
        "\"\"\").pl().lazy()\n",
        "\n",
        "#print(y_2020.collect())\n",
        "#print(y_2021.collect())\n",
        "#print(y_2022.collect())\n",
        "#print(y_2023.collect())\n"
      ]
    },
    {
      "cell_type": "code",
      "execution_count": null,
      "id": "38e6e121-e5e4-4aa1-9c76-713a19874ffa",
      "metadata": {
        "ExecuteTime": {
          "end_time": "2023-09-02T21:48:29.369058+00:00",
          "start_time": "2023-09-02T21:48:29.088003+00:00"
        },
        "jupyter": {
          "outputs_hidden": true,
          "source_hidden": false
        },
        "noteable": {
          "cell_type": "code",
          "output_collection_id": "7ee3b376-6a31-4295-b3c9-dc3c3ee71ee3"
        }
      },
      "outputs": [],
      "source": [
        "##obt_sales.csv TABLE & DATAFRAME\n",
        "\n",
        "##Table: tblObtSales\n",
        "##DataFrame: dfObtSales\n",
        "\n",
        "obt_sales_tbl = conn.execute(\"\"\"\n",
        "\tSELECT * FROM read_csv_auto('../data/obt_sales.csv', header=True, filename=True)                   \n",
        "\"\"\").pl().lazy()\n",
        "\n",
        "# Create a table tbl_obt_sales\n",
        "tbl = \"\"\"SELECT * FROM obt_sales_tbl\"\"\"\n",
        "conn.execute('CREATE OR REPLACE TABLE tblObtSales AS ({})'.format(tbl))\n",
        "\n",
        "dfObtSales = conn.execute(\"\"\"SELECT * FROM tblObtSales\"\"\").pl()#.lazy()\n",
        "\n",
        "query = \"\"\"\n",
        "    SUMMARIZE tblObtSales\n",
        "\"\"\"\n",
        "\n",
        "#print(\"dfObtSales\", type(dfObtSales))\n",
        "print(dfObtSales)\n",
        "\n",
        "results = conn.execute(query).pl()\n",
        "#print(results)"
      ]
    },
    {
      "cell_type": "code",
      "execution_count": null,
      "id": "bb1598f3",
      "metadata": {
        "ExecuteTime": {
          "end_time": "2023-09-02T21:44:04.545604+00:00",
          "start_time": "2023-09-02T21:44:04.378157+00:00"
        },
        "datalink": {
          "55a25752-6bf6-43f6-a4fd-387f64d8e337": {
            "applied_filters": [],
            "dataframe_info": {
              "default_index_used": true,
              "orig_num_cols": 12,
              "orig_num_rows": 5,
              "orig_size_bytes": 520,
              "truncated_num_cols": 12,
              "truncated_num_rows": 5,
              "truncated_size_bytes": 520,
              "truncated_string_columns": []
            },
            "display_id": "55a25752-6bf6-43f6-a4fd-387f64d8e337",
            "dx_settings": {
              "ALLOW_NOTEABLE_ATTRS": true,
              "COLUMN_SAMPLING_METHOD": "outer",
              "DB_LOCATION": ":memory:",
              "DEV_MODE": false,
              "DISPLAY_MAX_COLUMNS": 100,
              "DISPLAY_MAX_ROWS": 50000,
              "DISPLAY_MODE": "simple",
              "ENABLE_ASSIGNMENT": true,
              "ENABLE_DATALINK": true,
              "FLATTEN_COLUMN_VALUES": true,
              "FLATTEN_INDEX_VALUES": false,
              "GENERATE_DEX_METADATA": false,
              "HTML_TABLE_SCHEMA": false,
              "LOG_LEVEL": 30,
              "MAX_RENDER_SIZE_BYTES": 104857600,
              "MAX_STRING_LENGTH": 250,
              "NUM_PAST_SAMPLES_TRACKED": 3,
              "RANDOM_STATE": 12648430,
              "RESET_INDEX_VALUES": false,
              "ROW_SAMPLING_METHOD": "random",
              "SAMPLING_FACTOR": 0.1,
              "SAMPLING_METHOD": "random",
              "STRINGIFY_COLUMN_VALUES": true,
              "STRINGIFY_INDEX_VALUES": false
            },
            "sample_history": [],
            "sampling_time": "2023-09-02T21:43:14.981215",
            "user_variable_name": "results",
            "variable_name": "results"
          }
        },
        "jupyter": {
          "outputs_hidden": true
        },
        "noteable": {
          "output_collection_id": "e7148fb2-5a05-4f86-98df-e1e827644967"
        }
      },
      "outputs": [],
      "source": [
        "##customer.csv TABLE & DATAFRAME\n",
        "\n",
        "##Table: tblCustomer\n",
        "##DataFrame: dfCustomer\n",
        "\n",
        "customer_tbl = conn.execute(\"\"\"\n",
        "\tSELECT * FROM read_csv_auto('../data/customer.csv', header=True, filename=True)                   \n",
        "\"\"\").pl().lazy()\n",
        "\n",
        "##Create a table tblCustomer\n",
        "tbl = \"\"\"SELECT * FROM customer_tbl\"\"\"\n",
        "conn.execute('CREATE OR REPLACE TABLE tblCustomer AS ({})'.format(tbl))\n",
        "\n",
        "dfCustomer = conn.execute(\"\"\"SELECT * FROM tblCustomer\"\"\").pl()#.lazy()\n",
        "\n",
        "query = \"\"\"\n",
        "    SUMMARIZE tblCustomer\n",
        "\"\"\"\n",
        "\n",
        "#print(\"dfCustomer\", type(dfCustomer))\n",
        "#print(dfCustomer)\n",
        "\n",
        "results = conn.execute(query).pl()\n",
        "#print(results)"
      ]
    },
    {
      "cell_type": "code",
      "execution_count": null,
      "id": "777e02af-552e-4da5-b5a0-e2107577c7c3",
      "metadata": {
        "jupyter": {
          "outputs_hidden": false,
          "source_hidden": false
        },
        "noteable": {
          "cell_type": "code"
        }
      },
      "outputs": [],
      "source": [
        "##products.csv TABLE & DATAFRAME\n",
        "\n",
        "##Table: tblProducts\n",
        "##DataFrame: dfProducts\n",
        "\n",
        "products_tbl = conn.execute(\"\"\"\n",
        "\tSELECT * FROM read_csv_auto('../data/product.csv', header=True, filename=True)                   \n",
        "\"\"\").pl().lazy()\n",
        "\n",
        "# Create a table tblCustomer\n",
        "tbl = \"\"\"SELECT * FROM products_tbl\"\"\"\n",
        "conn.execute('CREATE OR REPLACE TABLE tblProducts AS ({})'.format(tbl))\n",
        "\n",
        "dfProducts = conn.execute(\"\"\"SELECT * FROM tblProducts\"\"\").pl()#.lazy()\n",
        "\n",
        "query = \"\"\"\n",
        "    SUMMARIZE tblProducts\n",
        "\"\"\"\n",
        "\n",
        "#print(\"dfProducts\", type(dfProducts))\n",
        "#print(dfProducts)\n",
        "\n",
        "results = conn.execute(query).pl()\n",
        "#print(results)"
      ]
    },
    {
      "cell_type": "code",
      "execution_count": null,
      "id": "11fd68fe-80e9-4b77-bde6-cb4862d129da",
      "metadata": {
        "ExecuteTime": {
          "end_time": "2023-09-02T22:05:27.570274+00:00",
          "start_time": "2023-09-02T22:05:27.350931+00:00"
        },
        "jupyter": {
          "outputs_hidden": false,
          "source_hidden": false
        },
        "noteable": {
          "cell_type": "code",
          "output_collection_id": "13c8bb88-0a0c-4278-b1da-c4ad504ed158"
        }
      },
      "outputs": [],
      "source": [
        "##sales.csv TABLE & DATAFRAME\n",
        "\n",
        "##Table: tblSales\n",
        "##DataFrame: dfSales\n",
        "\n",
        "sales_tbl = conn.execute(\"\"\"\n",
        "\tSELECT * FROM read_csv_auto('../data/sales.csv', header=True, filename=True)                   \n",
        "\"\"\").pl().lazy()\n",
        "\n",
        "##Create a table tblSales\n",
        "tbl = \"\"\"SELECT * FROM sales_tbl\"\"\"\n",
        "conn.execute('CREATE OR REPLACE TABLE tblSales AS ({})'.format(tbl))\n",
        "\n",
        "dfSales = conn.execute(\"\"\"SELECT * FROM tblSales\"\"\").pl()#.lazy()\n",
        "\n",
        "query = \"\"\"\n",
        "    SUMMARIZE tblSales\n",
        "\"\"\"\n",
        "\n",
        "#print(\"dfSales\", type(dfSales))\n",
        "#print(dfSales)\n",
        "\n",
        "results = conn.execute(query).pl()\n",
        "print(results)"
      ]
    },
    {
      "cell_type": "code",
      "execution_count": null,
      "id": "4218ac2c-f8d4-4466-a536-d368618c6a70",
      "metadata": {
        "jupyter": {
          "outputs_hidden": false,
          "source_hidden": false
        },
        "noteable": {
          "cell_type": "code"
        }
      },
      "outputs": [],
      "source": [
        "##salesman.csv TALBE & DATAFRAME\n",
        "\n",
        "##Table: tblSalesman\n",
        "##DataFrame: dfSalesman\n",
        "\n",
        "salesman_tbl = conn.execute(\"\"\"\n",
        "\tSELECT * FROM read_csv_auto('../data/salesman.csv', header=True, filename=True)                   \n",
        "\"\"\").pl().lazy()\n",
        "\n",
        "##Create a table tblSales\n",
        "tbl = \"\"\"SELECT * FROM salesman_tbl\"\"\"\n",
        "conn.execute('CREATE OR REPLACE TABLE tblSalesman AS ({})'.format(tbl))\n",
        "\n",
        "dfSalesman = conn.execute(\"\"\"SELECT * FROM tblSalesman\"\"\").pl()#.lazy()\n",
        "\n",
        "query = \"\"\"\n",
        "    SUMMARIZE tblSalesman\n",
        "\"\"\"\n",
        "\n",
        "#print(\"dfSalesman\", type(dfSalesman))\n",
        "#print(dfSales)\n",
        "\n",
        "results = conn.execute(query).pl()\n",
        "#print(results)"
      ]
    },
    {
      "cell_type": "code",
      "execution_count": null,
      "id": "39c75961",
      "metadata": {
        "ExecuteTime": {
          "end_time": "2023-09-02T22:05:31.997327+00:00",
          "start_time": "2023-09-02T22:05:31.840217+00:00"
        },
        "noteable": {
          "output_collection_id": "e5fb200c-b767-4794-a1e4-c9bc08157510"
        }
      },
      "outputs": [],
      "source": []
    },
    {
      "cell_type": "code",
      "execution_count": null,
      "id": "cdd70223",
      "metadata": {},
      "outputs": [],
      "source": [
        "#conn.close()"
      ]
    }
  ],
  "metadata": {
    "kernel_info": {
      "name": "python3"
    },
    "kernelspec": {
      "display_name": "Python 3.9",
      "language": "python",
      "name": "python3"
    },
    "language_info": {
      "codemirror_mode": {
        "name": "ipython",
        "version": 3
      },
      "file_extension": ".py",
      "mimetype": "text/x-python",
      "name": "python",
      "nbconvert_exporter": "python",
      "pygments_lexer": "ipython3",
      "version": "3.11.4"
    },
    "orig_nbformat": 4,
    "selected_hardware_size": "small"
  },
  "nbformat": 4,
  "nbformat_minor": 5
}
