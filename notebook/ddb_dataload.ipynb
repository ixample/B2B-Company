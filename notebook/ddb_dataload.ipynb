{
 "cells": [
  {
   "cell_type": "code",
   "execution_count": null,
   "metadata": {},
   "outputs": [],
   "source": [
    "#%pip install polars --quiet\n",
    "#%pip install duckdb --quiet\n",
    "#%pip install pyarrow --quiet\n",
    "#%pip install pandas --quiet\n",
    "#%pip install polars --quiet\n",
    "#%pip install numpy --quiet"
   ]
  },
  {
   "cell_type": "code",
   "execution_count": null,
   "metadata": {},
   "outputs": [],
   "source": [
    "!pip show polars\n",
    "!pip show duckdb\n",
    "!pip show pyarrow\n",
    "!pip show pandas\n",
    "!pip show polars\n",
    "!pip show numpy"
   ]
  },
  {
   "cell_type": "code",
   "execution_count": 8,
   "metadata": {},
   "outputs": [],
   "source": [
    "import polars as pl\n",
    "import numpy as np\n",
    "import pandas as pd\n",
    "import pyarrow \n",
    "import glob\n",
    "import time\n",
    "import duckdb"
   ]
  },
  {
   "cell_type": "code",
   "execution_count": 9,
   "metadata": {},
   "outputs": [],
   "source": [
    "##DuckDB\n",
    "\n",
    "# Create a connection to a DuckDB database\n",
    "conn = duckdb.connect(database=':memory:')\n",
    "#conn = duckdb.connect('analysis.duckdb')"
   ]
  },
  {
   "cell_type": "code",
   "execution_count": 15,
   "metadata": {},
   "outputs": [],
   "source": [
    "#Product Pricing\n",
    "\n",
    "y_2020 = conn.execute(\"\"\"SELECT \n",
    "{\n",
    "    '9001': 131.1,\n",
    "    '9002': 90.39,\n",
    "    '9003': 58.91,\n",
    "    '9004': 70.45,\n",
    "    '9005': 25.61,\n",
    "    '9006': 8.82,\n",
    "    '9007': 101.13,\n",
    "    '9008': 60.62,\n",
    "    '9009': 22.12,\n",
    "    '9010': 55.36,\n",
    "    '9011': 18.87,\n",
    "    '9012': 3.29,\n",
    "    '9013': 423.35,\n",
    "    '9014': 601.02\n",
    "}\n",
    "\"\"\").pl().lazy()\n",
    "\n",
    "y_2021 = conn.execute(\"\"\"SELECT \n",
    "{\n",
    "    '9001': 134.38,\n",
    "    '9002': 92.65,\n",
    "    '9003': 60.38,\n",
    "    '9004': 72.21,\n",
    "    '9005': 26.25,\n",
    "    '9006': 9.04,\n",
    "    '9007': 103.66,\n",
    "    '9008': 62.14,\n",
    "    '9009': 22.67,\n",
    "    '9010': 56.74,\n",
    "    '9011': 19.34,\n",
    "    '9012': 3.37,\n",
    "    '9013': 433.93,\n",
    "    '9014': 616.05\n",
    "}\n",
    "\"\"\").pl().lazy()\n",
    "\n",
    "y_2022 = conn.execute(\"\"\"SELECT \n",
    "{\n",
    "    '9001': 137.74,\n",
    "    '9002': 94.97,\n",
    "    '9003': 61.89,\n",
    "    '9004': 74.02,\n",
    "    '9005': 26.91,\n",
    "    '9006': 9.27,\n",
    "    '9007': 106.25,\n",
    "    '9008': 63.69,\n",
    "    '9009': 23.24,\n",
    "    '9010': 58.16,\n",
    "    '9011': 19.82,\n",
    "    '9012': 3.45,\n",
    "    '9013': 444.78,\n",
    "    '9014': 631.45\n",
    "}\n",
    "\"\"\").pl().lazy()\n",
    "\n",
    "y_2023 = conn.execute(\"\"\"SELECT \n",
    "{\n",
    "    '9001': 151.77,\n",
    "    '9002': 104.64,\n",
    "    '9003': 68.2,\n",
    "    '9004': 81.55,\n",
    "    '9005': 29.64,\n",
    "    '9006': 10.21,\n",
    "    '9007': 117.08,\n",
    "    '9008': 70.17,\n",
    "    '9009': 25.61,\n",
    "    '9010': 64.09,\n",
    "    '9011': 21.84,\n",
    "    '9012': 3.8,\n",
    "    '9013': 490.09,\n",
    "    '9014': 695.75\n",
    "}\n",
    "\"\"\").pl().lazy()\n",
    "\n",
    "print(y_2020.collect())\n",
    "print(y_2021.collect())\n",
    "print(y_2022.collect())\n",
    "print(y_2023.collect())"
   ]
  },
  {
   "cell_type": "code",
   "execution_count": 5,
   "metadata": {},
   "outputs": [
    {
     "name": "stdout",
     "output_type": "stream",
     "text": [
      "shape: (9_994, 5)\n",
      "┌─────────────┬───────────────────┬──────────┬───────────┬──────────────────────┐\n",
      "│ customer_id ┆ customer          ┆ industry ┆ segment   ┆ filename             │\n",
      "│ ---         ┆ ---               ┆ ---      ┆ ---       ┆ ---                  │\n",
      "│ i64         ┆ str               ┆ str      ┆ str       ┆ str                  │\n",
      "╞═════════════╪═══════════════════╪══════════╪═══════════╪══════════════════════╡\n",
      "│ 1017        ┆ Chevron           ┆ Energy   ┆ SMB       ┆ ../data/customer.csv │\n",
      "│ 1056        ┆ Phillips 66       ┆ Energy   ┆ Strategic ┆ ../data/customer.csv │\n",
      "│ 1031        ┆ Royal Dutch Shell ┆ Energy   ┆ SMB       ┆ ../data/customer.csv │\n",
      "│ 1065        ┆ BNP Paribas       ┆ Finance  ┆ SMB       ┆ ../data/customer.csv │\n",
      "│ …           ┆ …                 ┆ …        ┆ …         ┆ …                    │\n",
      "│ null        ┆ null              ┆ null     ┆ null      ┆ ../data/customer.csv │\n",
      "│ null        ┆ null              ┆ null     ┆ null      ┆ ../data/customer.csv │\n",
      "│ null        ┆ null              ┆ null     ┆ null      ┆ ../data/customer.csv │\n",
      "│ null        ┆ null              ┆ null     ┆ null      ┆ ../data/customer.csv │\n",
      "└─────────────┴───────────────────┴──────────┴───────────┴──────────────────────┘\n"
     ]
    }
   ],
   "source": [
    "customer_tbl_df = conn.execute(\"\"\"\n",
    "\tSELECT * FROM read_csv_auto('../data/customer.csv', header=True, filename=True)                   \n",
    "\"\"\").pl().lazy()\n",
    "\n",
    "# Create a table tblCustomer\n",
    "tbl = \"\"\"SELECT * FROM customer_tbl_df\"\"\"\n",
    "conn.execute('CREATE OR REPLACE TABLE tblCustomer AS ({})'.format(tbl))\n",
    "\n",
    "qv = conn.execute(\"\"\"SELECT * FROM tblCustomer\"\"\").pl()#.lazy()\n",
    "\n",
    "query = \"\"\"\n",
    "    SUMMARIZE tblCustomer\n",
    "\"\"\"\n",
    "results = conn.execute(query).pl\n",
    "#print(results)\n",
    "#print(type(qv))\n",
    "print(qv)"
   ]
  },
  {
   "cell_type": "code",
   "execution_count": null,
   "metadata": {},
   "outputs": [],
   "source": [
    "## Query Join Simple\n",
    "\n",
    "#qv = conn.execute(\"\"\"\n",
    "#    SELECT h.\"Sales Order: Order no.\", u.\"External order ID\"\n",
    "#        FROM vwHapai h\n",
    "#        INNER JOIN vwUbw u\n",
    "#            ON h.\"Sales Order: Order no.\" = u.\"External order ID\"\n",
    "#    \"\"\"\n",
    "#).pl()\n",
    "\n",
    "#display(type(qv))\n",
    "#print(qv)"
   ]
  },
  {
   "cell_type": "code",
   "execution_count": null,
   "metadata": {},
   "outputs": [],
   "source": [
    "#conn.close()"
   ]
  }
 ],
 "metadata": {
  "kernelspec": {
   "display_name": "venv",
   "language": "python",
   "name": "python3"
  },
  "language_info": {
   "codemirror_mode": {
    "name": "ipython",
    "version": 3
   },
   "file_extension": ".py",
   "mimetype": "text/x-python",
   "name": "python",
   "nbconvert_exporter": "python",
   "pygments_lexer": "ipython3",
   "version": "3.11.4"
  },
  "orig_nbformat": 4
 },
 "nbformat": 4,
 "nbformat_minor": 2
}
